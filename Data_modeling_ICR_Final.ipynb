{
 "cells": [
  {
   "cell_type": "code",
   "execution_count": 1,
   "metadata": {
    "id": "ygBevqtjLVxM"
   },
   "outputs": [],
   "source": [
    "import pandas as pd\n",
    "import numpy as np\n",
    "import os, sys\n",
    "from sklearn.pipeline import make_pipeline\n",
    "from sklearn.linear_model import LinearRegression\n",
    "from sklearn.preprocessing import MinMaxScaler\n",
    "from sklearn.model_selection import train_test_split\n",
    "from sklearn.utils import resample\n",
    "from sklearn import metrics\n",
    "from sklearn.decomposition import PCA\n",
    "from sklearn.model_selection import cross_validate\n",
    "from sklearn.metrics import confusion_matrix, ConfusionMatrixDisplay\n",
    "from sklearn.metrics import classification_report\n",
    "from sklearn.ensemble import GradientBoostingClassifier\n",
    "from sklearn.metrics import balanced_accuracy_score\n",
    "import matplotlib.pyplot as plt\n",
    "import seaborn as sns\n",
    "%matplotlib inline\n"
   ]
  },
  {
   "cell_type": "markdown",
   "metadata": {
    "id": "poU7mZk--sPd"
   },
   "source": [
    "We are performing a Supervised learning which involves modeling the relationship between recorded values of  features and their corresponding labels ; Once this model is determined, it can be used to do inference on new recorded values of features to assciate them with one of the labels. It is further a classification task where the labels are discrete."
   ]
  },
  {
   "cell_type": "code",
   "execution_count": 2,
   "metadata": {
    "id": "0It137L3_iSB"
   },
   "outputs": [
    {
     "ename": "ModuleNotFoundError",
     "evalue": "No module named 'google.colab'",
     "output_type": "error",
     "traceback": [
      "\u001b[1;31m---------------------------------------------------------------------------\u001b[0m",
      "\u001b[1;31mModuleNotFoundError\u001b[0m                       Traceback (most recent call last)",
      "Cell \u001b[1;32mIn [2], line 1\u001b[0m\n\u001b[1;32m----> 1\u001b[0m \u001b[38;5;28;01mfrom\u001b[39;00m \u001b[38;5;21;01mgoogle\u001b[39;00m\u001b[38;5;21;01m.\u001b[39;00m\u001b[38;5;21;01mcolab\u001b[39;00m \u001b[38;5;28;01mimport\u001b[39;00m drive\n\u001b[0;32m      2\u001b[0m drive\u001b[38;5;241m.\u001b[39mmount(\u001b[38;5;124m'\u001b[39m\u001b[38;5;124m/content/drive\u001b[39m\u001b[38;5;124m'\u001b[39m)\n",
      "\u001b[1;31mModuleNotFoundError\u001b[0m: No module named 'google.colab'"
     ]
    }
   ],
   "source": [
    "from google.colab import drive\n",
    "drive.mount('/content/drive')"
   ]
  },
  {
   "cell_type": "code",
   "execution_count": null,
   "metadata": {
    "id": "tQl9nPwZIFVk"
   },
   "outputs": [],
   "source": [
    "default_dir = '/content/drive/MyDrive/icr-identify-age-related-conditions'\n",
    "# default_dir = 'icr-identify-age-related-conditions'"
   ]
  },
  {
   "cell_type": "markdown",
   "metadata": {
    "id": "R0SUGEGBTW8c"
   },
   "source": [
    "train.csv - The training set.\n",
    "\n",
    "*   Id Unique identifier for each observation.\n",
    "*   AB-GL 56 anonymized health characteristics. All are numeric except  for EJ, which is categorical.\n",
    "*   Class A binary target: 1 indicates the subject has been diagnosed with one of the three conditions\n",
    "*   0 indicates they have not.\n",
    "\n"
   ]
  },
  {
   "cell_type": "markdown",
   "metadata": {
    "id": "QAZKebBv_cWF"
   },
   "source": [
    "# Reading the training data\n",
    "Rows = 617\n",
    "Features = 58"
   ]
  },
  {
   "cell_type": "code",
   "execution_count": null,
   "metadata": {
    "id": "bqhZnK7SvP1g"
   },
   "outputs": [],
   "source": [
    "train_df = pd.read_csv('train.csv')\n"
   ]
  },
  {
   "cell_type": "code",
   "execution_count": null,
   "metadata": {
    "colab": {
     "base_uri": "https://localhost:8080/",
     "height": 317
    },
    "id": "XhbIT-yPMnBW",
    "outputId": "fe4c9958-c6be-409c-f233-0329fd0c0605"
   },
   "outputs": [],
   "source": [
    "#train_df = pd.read_csv(os.path.join(default_dir,'train.csv'))\n",
    "\n",
    "print(f'Training Data Shape: {train_df.shape}')\n",
    "\n",
    "train_df.head()"
   ]
  },
  {
   "cell_type": "markdown",
   "metadata": {
    "id": "5uN9MtGF_cWG"
   },
   "source": [
    "# Investigating missing values per column and imputing them accordingly."
   ]
  },
  {
   "cell_type": "code",
   "execution_count": null,
   "metadata": {
    "colab": {
     "base_uri": "https://localhost:8080/",
     "height": 586
    },
    "id": "GOQX_Qwy_cWG",
    "outputId": "61cd4e08-6030-40ec-b939-4d3875330057"
   },
   "outputs": [],
   "source": [
    "missing_values_sum = train_df.isnull().sum()\n",
    "\n",
    "# Plotting the sum of missing values\n",
    "plt.figure(figsize=(15, 6))\n",
    "plt.bar(missing_values_sum.index, missing_values_sum.values)\n",
    "plt.xlabel('Columns')\n",
    "plt.ylabel('Sum of Missing Values')\n",
    "plt.title('Sum of Missing Values in Each Column')\n",
    "plt.xticks(rotation=45)\n",
    "plt.show()"
   ]
  },
  {
   "cell_type": "markdown",
   "metadata": {
    "id": "nXUSburl_cWH"
   },
   "source": [
    "#Utility function to calculate statistical properties of columns grouped by class and irrespective of the class respectively."
   ]
  },
  {
   "cell_type": "code",
   "execution_count": null,
   "metadata": {
    "id": "YRI4JzOX_cWI"
   },
   "outputs": [],
   "source": [
    "def calc_stats(df,column):\n",
    "    # Calculate the median value of column\n",
    "    median = df[column].median()\n",
    "    print(\"median \\t \",median)\n",
    "\n",
    "    # Calculate the median value of  column grouped by 'Class'\n",
    "    median_by_class = df.groupby('Class')[column].median()\n",
    "    print(\"median_by_class \\t \",median_by_class)\n",
    "\n",
    "    # Calculate the mean value of  column\n",
    "    mean = df[column].mean()\n",
    "    print(\"mean \\t\",mean)\n",
    "\n",
    "    # Calculate the mean value of column grouped by 'Class'\n",
    "    mean_by_class = df.groupby('Class')[column].mean()\n",
    "    print(\"mean_by_class \\t\",mean_by_class)\n",
    "\n",
    "    return median,median_by_class,mean,mean_by_class\n"
   ]
  },
  {
   "cell_type": "markdown",
   "metadata": {
    "id": "Kx_cHI2C_cWI"
   },
   "source": [
    "# Column BQ"
   ]
  },
  {
   "cell_type": "code",
   "execution_count": null,
   "metadata": {
    "colab": {
     "base_uri": "https://localhost:8080/"
    },
    "id": "ApFHyvPh_cWJ",
    "outputId": "747af3e1-6c9e-41dd-8efe-1e2c81d7ddee"
   },
   "outputs": [],
   "source": [
    "_= calc_stats(train_df,'BQ')"
   ]
  },
  {
   "cell_type": "code",
   "execution_count": null,
   "metadata": {
    "colab": {
     "base_uri": "https://localhost:8080/"
    },
    "id": "BV80bCPd_cWJ",
    "outputId": "a84df5a0-07f5-4380-a218-8c38ba6c45dc"
   },
   "outputs": [],
   "source": [
    "# Find rows with missing data in 'BQ'\n",
    "missing_rows = train_df[train_df['BQ'].isnull()]\n",
    "\n",
    "missing_rows[\"Class\"].value_counts()"
   ]
  },
  {
   "cell_type": "code",
   "execution_count": null,
   "metadata": {
    "id": "a0SB9n-C_cWJ"
   },
   "outputs": [],
   "source": [
    "#It makes sense to choose the BQ_median_by_class 0 to use as imputed value.\n",
    "train_df = train_df.fillna(value={'BQ': 53.775015})"
   ]
  },
  {
   "cell_type": "markdown",
   "metadata": {
    "id": "PvvtrvFk_cWJ"
   },
   "source": [
    "# Lets investigate the other missing data"
   ]
  },
  {
   "cell_type": "code",
   "execution_count": null,
   "metadata": {
    "colab": {
     "base_uri": "https://localhost:8080/",
     "height": 586
    },
    "id": "fL9D5dcs_cWK",
    "outputId": "db0a4a17-3dc8-451e-bfc8-38945e1541f3"
   },
   "outputs": [],
   "source": [
    "missing_values_sum = train_df.isnull().sum()\n",
    "\n",
    "# Plotting the sum of missing values\n",
    "plt.figure(figsize=(15, 6))\n",
    "plt.bar(missing_values_sum.index, missing_values_sum.values)\n",
    "plt.xlabel('Columns')\n",
    "plt.ylabel('Sum of Missing Values')\n",
    "plt.title('Sum of Missing Values in Each Column')\n",
    "plt.xticks(rotation=45)\n",
    "plt.show()"
   ]
  },
  {
   "cell_type": "markdown",
   "metadata": {
    "id": "LkY5H6iG_cWK"
   },
   "source": [
    "# Column EL"
   ]
  },
  {
   "cell_type": "code",
   "execution_count": null,
   "metadata": {
    "colab": {
     "base_uri": "https://localhost:8080/"
    },
    "id": "3FvjVWRA_cWK",
    "outputId": "a61acc8d-8da6-41a5-b45d-e453807092ed"
   },
   "outputs": [],
   "source": [
    "_= calc_stats(train_df,'EL')"
   ]
  },
  {
   "cell_type": "code",
   "execution_count": null,
   "metadata": {
    "colab": {
     "base_uri": "https://localhost:8080/"
    },
    "id": "3MJPYd4s_cWK",
    "outputId": "29ac32b7-3bff-4493-b03c-5020efb0e174"
   },
   "outputs": [],
   "source": [
    "# Find rows with missing data in 'EL'\n",
    "missing_rows = train_df[train_df['EL'].isnull()]\n",
    "\n",
    "missing_rows[\"Class\"].value_counts()"
   ]
  },
  {
   "cell_type": "code",
   "execution_count": null,
   "metadata": {
    "id": "QH_S0bXv_cWL"
   },
   "outputs": [],
   "source": [
    "# Define the median value of EL grouped by class to fill for each missing values based on their class.\n",
    "fill_values = {\n",
    "    0 : 68.992209,\n",
    "    1 : 109.125159\n",
    "}"
   ]
  },
  {
   "cell_type": "code",
   "execution_count": null,
   "metadata": {
    "id": "Qr5CBnvH_cWL"
   },
   "outputs": [],
   "source": [
    "# Fill missing values in 'EL' column based on 'Class'\n",
    "train_df['EL'] = train_df.apply(lambda row: fill_values[row['Class']] if pd.isnull(row['EL']) else row['EL'], axis=1)\n"
   ]
  },
  {
   "cell_type": "code",
   "execution_count": null,
   "metadata": {
    "colab": {
     "base_uri": "https://localhost:8080/",
     "height": 586
    },
    "id": "U4NGktAd_cWL",
    "outputId": "bf9dc419-9b53-429a-a0cc-5cc64a2d869d"
   },
   "outputs": [],
   "source": [
    "missing_values_sum = train_df.isnull().sum()\n",
    "# Plotting the sum of missing values\n",
    "plt.figure(figsize=(15, 6))\n",
    "plt.bar(missing_values_sum.index, missing_values_sum.values)\n",
    "plt.xlabel('Columns')\n",
    "plt.ylabel('Sum of Missing Values')\n",
    "plt.title('Sum of Missing Values in Each Column')\n",
    "plt.xticks(rotation=45)\n",
    "plt.show()"
   ]
  },
  {
   "cell_type": "markdown",
   "metadata": {
    "id": "ywSCWsE4_cWL"
   },
   "source": [
    "# Column CB"
   ]
  },
  {
   "cell_type": "code",
   "execution_count": null,
   "metadata": {
    "colab": {
     "base_uri": "https://localhost:8080/"
    },
    "id": "ssoKWxdC_cWL",
    "outputId": "baa3daeb-2fc3-4929-df2e-14e0816e2ba3"
   },
   "outputs": [],
   "source": [
    "_= calc_stats(train_df,'CB')"
   ]
  },
  {
   "cell_type": "code",
   "execution_count": null,
   "metadata": {
    "colab": {
     "base_uri": "https://localhost:8080/"
    },
    "id": "nKRTEMFK_cWL",
    "outputId": "07564762-9d32-4f36-96dd-c082f425cb54"
   },
   "outputs": [],
   "source": [
    "# Find rows with missing data in 'CB'\n",
    "missing_rows = train_df[train_df['CB'].isnull()]\n",
    "\n",
    "missing_rows[\"Class\"].value_counts()"
   ]
  },
  {
   "cell_type": "code",
   "execution_count": null,
   "metadata": {
    "id": "t8KFp4Pd_cWM"
   },
   "outputs": [],
   "source": [
    "#It makes sense to choose the CB_median_by_class 0 to use as imputed value.\n",
    "train_df = train_df.fillna(value={'CB': 42.802487})"
   ]
  },
  {
   "cell_type": "markdown",
   "metadata": {
    "id": "GRF86f5M_cWM"
   },
   "source": [
    "# Column CC"
   ]
  },
  {
   "cell_type": "code",
   "execution_count": null,
   "metadata": {
    "colab": {
     "base_uri": "https://localhost:8080/"
    },
    "id": "trLWklrq_cWM",
    "outputId": "117562fc-01c9-4c36-f645-fda105a712e4"
   },
   "outputs": [],
   "source": [
    "_= calc_stats(train_df,'CC')"
   ]
  },
  {
   "cell_type": "code",
   "execution_count": null,
   "metadata": {
    "colab": {
     "base_uri": "https://localhost:8080/"
    },
    "id": "opmX5Bi7_cWM",
    "outputId": "8bd8ccb3-1f58-4854-b88e-96ccb7f1913c"
   },
   "outputs": [],
   "source": [
    "# Find rows with missing data in 'CC'\n",
    "missing_rows = train_df[train_df['CC'].isnull()]\n",
    "\n",
    "missing_rows[\"Class\"].value_counts()"
   ]
  },
  {
   "cell_type": "code",
   "execution_count": null,
   "metadata": {
    "id": "YypgWbNe_cWM"
   },
   "outputs": [],
   "source": [
    "# Define the value to fill for each class\n",
    "fill_values = {\n",
    "    0 : 0.670100,\n",
    "    1 : 0.579919\n",
    "}"
   ]
  },
  {
   "cell_type": "code",
   "execution_count": null,
   "metadata": {
    "id": "K1iIDFx7_cWN"
   },
   "outputs": [],
   "source": [
    "# Fill missing values in 'CC' column based on 'Class'\n",
    "train_df['CC'] = train_df.apply(lambda row: fill_values[row['Class']] if pd.isnull(row['CC']) else row['CC'], axis=1)\n"
   ]
  },
  {
   "cell_type": "markdown",
   "metadata": {
    "id": "JPe-h0CL_cWN"
   },
   "source": [
    "# Column DU"
   ]
  },
  {
   "cell_type": "code",
   "execution_count": null,
   "metadata": {
    "colab": {
     "base_uri": "https://localhost:8080/"
    },
    "id": "HiVkHvjt_cWN",
    "outputId": "97b13861-6136-4efd-98c2-ad91b439de67"
   },
   "outputs": [],
   "source": [
    "_= calc_stats(train_df,'DU')"
   ]
  },
  {
   "cell_type": "code",
   "execution_count": null,
   "metadata": {
    "colab": {
     "base_uri": "https://localhost:8080/"
    },
    "id": "U1YRfVKu_cWN",
    "outputId": "b8871157-a210-4f35-c210-57b99a36317b"
   },
   "outputs": [],
   "source": [
    "# Find rows with missing data in 'DU'\n",
    "missing_rows = train_df[train_df['DU'].isnull()]\n",
    "\n",
    "missing_rows[\"Class\"].value_counts()"
   ]
  },
  {
   "cell_type": "code",
   "execution_count": null,
   "metadata": {
    "id": "dOE3o3VE_cWN"
   },
   "outputs": [],
   "source": [
    "#It makes sense to choose the DU_median_by_class 0 to use as imputed value.\n",
    "train_df = train_df.fillna(value={'DU': 0.162079})"
   ]
  },
  {
   "cell_type": "markdown",
   "metadata": {
    "id": "8o_yxKDH_cWN"
   },
   "source": [
    "# FC"
   ]
  },
  {
   "cell_type": "code",
   "execution_count": null,
   "metadata": {
    "colab": {
     "base_uri": "https://localhost:8080/"
    },
    "id": "R0n1uFnP_cWN",
    "outputId": "ebafb179-c06a-4b08-c46d-8f6d5183d4b9"
   },
   "outputs": [],
   "source": [
    "_= calc_stats(train_df,'FC')"
   ]
  },
  {
   "cell_type": "code",
   "execution_count": null,
   "metadata": {
    "colab": {
     "base_uri": "https://localhost:8080/"
    },
    "id": "C8zJgfAw_cWN",
    "outputId": "b8a3d6ac-4f07-4df0-eadf-753576e3f983"
   },
   "outputs": [],
   "source": [
    "# Find rows with missing data in 'FC'\n",
    "missing_rows = train_df[train_df['FC'].isnull()]\n",
    "\n",
    "missing_rows[\"Class\"].value_counts()"
   ]
  },
  {
   "cell_type": "code",
   "execution_count": null,
   "metadata": {
    "id": "sndD3PB4_cWO"
   },
   "outputs": [],
   "source": [
    "#It makes sense to choose the FC_median_by_class 1 to use as imputed value.\n",
    "train_df = train_df.fillna(value={'FC': 34.734672})"
   ]
  },
  {
   "cell_type": "markdown",
   "metadata": {
    "id": "xklxtOy3_cWO"
   },
   "source": [
    "# FL"
   ]
  },
  {
   "cell_type": "code",
   "execution_count": null,
   "metadata": {
    "colab": {
     "base_uri": "https://localhost:8080/"
    },
    "id": "F6rPj97a_cWO",
    "outputId": "758e2323-c58c-40fc-c48f-a4369e967fbf"
   },
   "outputs": [],
   "source": [
    "_= calc_stats(train_df,'FL')"
   ]
  },
  {
   "cell_type": "code",
   "execution_count": null,
   "metadata": {
    "colab": {
     "base_uri": "https://localhost:8080/"
    },
    "id": "QNpJV1PU_cWO",
    "outputId": "f327bc1b-8da4-445b-8ef2-e244e1c4f5c7"
   },
   "outputs": [],
   "source": [
    "# Find rows with missing data in 'FL'\n",
    "missing_rows = train_df[train_df['FL'].isnull()]\n",
    "\n",
    "missing_rows[\"Class\"].value_counts()"
   ]
  },
  {
   "cell_type": "code",
   "execution_count": null,
   "metadata": {
    "id": "U36c8ba1_cWO"
   },
   "outputs": [],
   "source": [
    "#It makes sense to choose the FL_median_by_class 0 to use as imputed value.\n",
    "train_df = train_df.fillna(value={'FL': 2.463620})"
   ]
  },
  {
   "cell_type": "markdown",
   "metadata": {
    "id": "sJ4ctqY2_cWO"
   },
   "source": [
    "# FS"
   ]
  },
  {
   "cell_type": "code",
   "execution_count": null,
   "metadata": {
    "colab": {
     "base_uri": "https://localhost:8080/"
    },
    "id": "XJCtLbr__cWO",
    "outputId": "bf7e2aa3-bdf3-4358-c7f0-3940e5c86e06"
   },
   "outputs": [],
   "source": [
    "_= calc_stats(train_df,'FS')"
   ]
  },
  {
   "cell_type": "code",
   "execution_count": null,
   "metadata": {
    "colab": {
     "base_uri": "https://localhost:8080/"
    },
    "id": "VQEOF2b8_cWP",
    "outputId": "e778f67f-cf82-461c-8d8d-e4f64d5de32b"
   },
   "outputs": [],
   "source": [
    "# Find rows with missing data in 'FS'\n",
    "missing_rows = train_df[train_df['FS'].isnull()]\n",
    "\n",
    "missing_rows[\"Class\"].value_counts()"
   ]
  },
  {
   "cell_type": "code",
   "execution_count": null,
   "metadata": {
    "id": "0DhJorBv_cWP"
   },
   "outputs": [],
   "source": [
    "# Define the value to fill for each class\n",
    "fill_values = {\n",
    "    0 : 0.250601,\n",
    "    1 : 0.257374\n",
    "}"
   ]
  },
  {
   "cell_type": "code",
   "execution_count": null,
   "metadata": {
    "id": "_PEfa8Eu_cWP"
   },
   "outputs": [],
   "source": [
    "train_df['FS'] = train_df.apply(lambda row: fill_values[row['Class']] if pd.isnull(row['FS']) else row['FS'], axis=1)\n"
   ]
  },
  {
   "cell_type": "markdown",
   "metadata": {
    "id": "1Rczirpj_cWP"
   },
   "source": [
    "\n",
    "# GL"
   ]
  },
  {
   "cell_type": "code",
   "execution_count": null,
   "metadata": {
    "colab": {
     "base_uri": "https://localhost:8080/"
    },
    "id": "cpjm3fqU_cWP",
    "outputId": "f3607414-f5f2-41ad-c16f-9834c486ec9f"
   },
   "outputs": [],
   "source": [
    "_= calc_stats(train_df,'GL')"
   ]
  },
  {
   "cell_type": "code",
   "execution_count": null,
   "metadata": {
    "colab": {
     "base_uri": "https://localhost:8080/"
    },
    "id": "sWfQDCPs_cWP",
    "outputId": "236076bf-ee66-4161-e097-0d8e234eebe9"
   },
   "outputs": [],
   "source": [
    "# Find rows with missing data in 'GL'\n",
    "missing_rows = train_df[train_df['GL'].isnull()]\n",
    "\n",
    "missing_rows[\"Class\"].value_counts()"
   ]
  },
  {
   "cell_type": "code",
   "execution_count": null,
   "metadata": {
    "id": "s1iwyf6i_cWQ"
   },
   "outputs": [],
   "source": [
    "train_df = train_df.fillna(value={'GL': 0.435421})"
   ]
  },
  {
   "cell_type": "markdown",
   "metadata": {
    "id": "3wnKxZK5_cWQ"
   },
   "source": [
    "With that, the missing values are imputed accordingly."
   ]
  },
  {
   "cell_type": "code",
   "execution_count": null,
   "metadata": {
    "colab": {
     "base_uri": "https://localhost:8080/",
     "height": 586
    },
    "id": "GEniAQu1_cWQ",
    "outputId": "3c0a2321-4b3c-45c6-d2ab-809acb21b730"
   },
   "outputs": [],
   "source": [
    "missing_values_sum = train_df.isnull().sum()\n",
    "# Plotting the sum of missing values\n",
    "plt.figure(figsize=(15, 6))\n",
    "plt.bar(missing_values_sum.index, missing_values_sum.values)\n",
    "plt.xlabel('Columns')\n",
    "plt.ylabel('Sum of Missing Values')\n",
    "plt.title('Sum of Missing Values in Each Column')\n",
    "plt.xticks(rotation=45)\n",
    "plt.show()"
   ]
  },
  {
   "cell_type": "markdown",
   "metadata": {
    "id": "O6z5KgLl_cWQ"
   },
   "source": [
    "Dropping the \"Id\" column"
   ]
  },
  {
   "cell_type": "code",
   "execution_count": null,
   "metadata": {
    "id": "ZjHs8ei4jF_p"
   },
   "outputs": [],
   "source": [
    "train_df.drop(\"Id\",axis=1,inplace=True)"
   ]
  },
  {
   "cell_type": "code",
   "execution_count": null,
   "metadata": {
    "colab": {
     "base_uri": "https://localhost:8080/"
    },
    "id": "MwO1S1Gxl-qb",
    "outputId": "87aacbdc-861b-4f37-d8ba-6230307033da"
   },
   "outputs": [],
   "source": [
    "train_df.shape"
   ]
  },
  {
   "cell_type": "markdown",
   "metadata": {
    "id": "Jdy90bqi_cWQ"
   },
   "source": [
    "\"EJ\" is categorical. Generating dummies and concatenating the same to the original dataframe and removing the categorical feature."
   ]
  },
  {
   "cell_type": "code",
   "execution_count": null,
   "metadata": {
    "colab": {
     "base_uri": "https://localhost:8080/"
    },
    "id": "_LYdqwvpnn77",
    "outputId": "de5f3bea-5e6a-419d-9852-ca7cf612e1af"
   },
   "outputs": [],
   "source": [
    "train_df['EJ'].unique()"
   ]
  },
  {
   "cell_type": "code",
   "execution_count": null,
   "metadata": {
    "id": "JRD8wwR7oTQl"
   },
   "outputs": [],
   "source": [
    "# Convert int values to categorical features\n",
    "converted_df = pd.get_dummies(train_df['EJ'], prefix='feature')\n",
    "\n",
    "# Concatenate the converted features with the original DataFrame\n",
    "train_df = pd.concat([train_df, converted_df], axis=1)"
   ]
  },
  {
   "cell_type": "code",
   "execution_count": null,
   "metadata": {
    "id": "e8AlNBZtpmD1"
   },
   "outputs": [],
   "source": [
    "train_df.drop(\"EJ\",axis=1,inplace=True)"
   ]
  },
  {
   "cell_type": "markdown",
   "metadata": {
    "id": "lXgQHXcR_cWR"
   },
   "source": [
    "Rows= 617\n",
    "Features = 57"
   ]
  },
  {
   "cell_type": "code",
   "execution_count": null,
   "metadata": {
    "colab": {
     "base_uri": "https://localhost:8080/"
    },
    "id": "sIPelFIP_cWR",
    "outputId": "fc25d90f-a869-4b46-f289-8f426d26336d"
   },
   "outputs": [],
   "source": [
    "train_df.shape"
   ]
  },
  {
   "cell_type": "code",
   "execution_count": null,
   "metadata": {
    "id": "dRStaEJiizh-"
   },
   "outputs": [],
   "source": [
    "df=train_df"
   ]
  },
  {
   "cell_type": "markdown",
   "metadata": {
    "id": "F7LpBP-qjukR"
   },
   "source": [
    "# Lets check the class distribution . The data collected is highly imbalanced , roughly 1:5"
   ]
  },
  {
   "cell_type": "code",
   "execution_count": null,
   "metadata": {
    "colab": {
     "base_uri": "https://localhost:8080/"
    },
    "id": "NcTpp95Sjt6u",
    "outputId": "7f45117b-f46b-40e8-a814-48816fec15e5"
   },
   "outputs": [],
   "source": [
    "class_distribution = df['Class'].value_counts()\n",
    "class_distribution"
   ]
  },
  {
   "cell_type": "markdown",
   "metadata": {
    "id": "ixnk5_2fkkYz"
   },
   "source": [
    "# To avoid Redundancy , Overfitting and Instability , lets check the features highly correlated to each other , and get them removed for better interpretation."
   ]
  },
  {
   "cell_type": "code",
   "execution_count": null,
   "metadata": {
    "id": "AqLHPybMkqFS"
   },
   "outputs": [],
   "source": [
    "# Separate Class feature temporarily\n",
    "target_temp = df['Class']\n",
    "feature_matrix = df.drop(columns = ['Class'])"
   ]
  },
  {
   "cell_type": "code",
   "execution_count": null,
   "metadata": {
    "colab": {
     "base_uri": "https://localhost:8080/"
    },
    "id": "FKiSewhak1XM",
    "outputId": "70decdc9-c008-45b1-c5ee-e90c0b67d6e9"
   },
   "outputs": [],
   "source": [
    "# Threshold for removing correlated variables (without Class)\n",
    "threshold = 0.8\n",
    "\n",
    "# Calculate correlation matrix\n",
    "corr_matrix = feature_matrix.corr(numeric_only=True)\n",
    "upper = corr_matrix.where(np.triu(np.ones(corr_matrix.shape), k=1).astype(bool))\n",
    "\n",
    "# Select columns with correlations above threshold\n",
    "collinear_features = [column for column in upper.columns if any(upper[column] > threshold)]\n",
    "\n",
    "print('There are %d features to remove.' % (len(collinear_features)))"
   ]
  },
  {
   "cell_type": "code",
   "execution_count": null,
   "metadata": {
    "id": "k7KAI7LXlPXj"
   },
   "outputs": [],
   "source": [
    "#Remove correlated features\n",
    "feature_matrix = feature_matrix[[col for col in feature_matrix.columns if col not in collinear_features]]"
   ]
  },
  {
   "cell_type": "markdown",
   "metadata": {
    "id": "MKBsANpj_cWS"
   },
   "source": [
    "# Scaling the features to bring all the features in the range 0-1 . Algorithms converge faster when features are scaled. When the features have vastly different scales, the optimization process can become skewed and take longer to converge to the optimal solution."
   ]
  },
  {
   "cell_type": "code",
   "execution_count": null,
   "metadata": {
    "id": "d7OTWkoJmRNy"
   },
   "outputs": [],
   "source": [
    "# Scale each feature to 0-1\n",
    "scaler = MinMaxScaler(feature_range = (0, 1))\n",
    "scaler.fit(feature_matrix)\n",
    "train = scaler.transform(feature_matrix)\n",
    "\n",
    "# Feature names\n",
    "features = list(feature_matrix.columns)\n",
    "feature_matrix = pd.DataFrame(data=train, columns=features)\n",
    "\n",
    "#and the response feature (Class) is reattached.\n",
    "feature_matrix['Class'] = target_temp\n",
    "\n"
   ]
  },
  {
   "cell_type": "code",
   "execution_count": null,
   "metadata": {
    "colab": {
     "base_uri": "https://localhost:8080/"
    },
    "id": "OofkrGgj_cWT",
    "outputId": "794dab9c-eb6a-4c45-c168-89c932d11d46"
   },
   "outputs": [],
   "source": [
    "feature_matrix.shape"
   ]
  },
  {
   "cell_type": "code",
   "execution_count": null,
   "metadata": {
    "colab": {
     "base_uri": "https://localhost:8080/",
     "height": 300
    },
    "id": "MIkUR-bW_cWT",
    "outputId": "4739115f-de30-491b-e775-b9995fd5e754"
   },
   "outputs": [],
   "source": [
    "feature_matrix.head()"
   ]
  },
  {
   "cell_type": "code",
   "execution_count": null,
   "metadata": {
    "id": "wJib7K6B_cWT"
   },
   "outputs": [],
   "source": [
    "feature_matrix.to_csv(\"Dataset1_scaled_Raw Features_Imbalanced.csv\")"
   ]
  },
  {
   "cell_type": "markdown",
   "metadata": {
    "id": "6ZVSxhM7_cWT"
   },
   "source": [
    "Splitting the Dataset into training and test dataset."
   ]
  },
  {
   "cell_type": "code",
   "execution_count": null,
   "metadata": {
    "id": "cAgnLsyjpsLO"
   },
   "outputs": [],
   "source": [
    "#splitting application_train_newdf into train and test\n",
    "train,test = train_test_split(feature_matrix,test_size=.20,random_state = 123)\n",
    "\n",
    "#separating dependent and independent variables (no under/over sampling)\n",
    "train_X = train[[i for i in train.columns if i not in ['Class']]]\n",
    "train_Y = train[[\"Class\"]].astype(int)\n",
    "\n",
    "test_X  = test[[i for i in test.columns if i not in ['Class']]]\n",
    "test_Y  = test[[\"Class\"]].astype(int)"
   ]
  },
  {
   "cell_type": "code",
   "execution_count": null,
   "metadata": {
    "colab": {
     "base_uri": "https://localhost:8080/"
    },
    "id": "X1utsCNb_cWT",
    "outputId": "a887bd99-e474-4166-c34d-8d51c19ae7a0"
   },
   "outputs": [],
   "source": [
    "train.shape"
   ]
  },
  {
   "cell_type": "code",
   "execution_count": null,
   "metadata": {
    "colab": {
     "base_uri": "https://localhost:8080/"
    },
    "id": "UD4D8kndTUi0",
    "outputId": "80737189-83b9-4b36-e5cd-44ee60b63d3f"
   },
   "outputs": [],
   "source": [
    "count = train['Class'].value_counts()\n",
    "count"
   ]
  },
  {
   "cell_type": "code",
   "execution_count": null,
   "metadata": {
    "colab": {
     "base_uri": "https://localhost:8080/"
    },
    "id": "F6lzXoxl_cWT",
    "outputId": "3a8d657c-352c-4785-c790-22162cd039a9"
   },
   "outputs": [],
   "source": [
    "test.shape"
   ]
  },
  {
   "cell_type": "code",
   "execution_count": null,
   "metadata": {
    "colab": {
     "base_uri": "https://localhost:8080/"
    },
    "id": "T87T8aMF_cWU",
    "outputId": "ad2e79b5-7e3c-4452-d996-08ec9d05508e"
   },
   "outputs": [],
   "source": [
    "count = test['Class'].value_counts()\n",
    "count"
   ]
  },
  {
   "cell_type": "markdown",
   "metadata": {
    "id": "nFAS5Zuj_cWU"
   },
   "source": [
    "# Class imbalance in training dataset. We have to loop through the dataset and try different random subsets for a better score."
   ]
  },
  {
   "cell_type": "code",
   "execution_count": null,
   "metadata": {
    "colab": {
     "base_uri": "https://localhost:8080/"
    },
    "id": "kB1y5pAOqmtq",
    "outputId": "56ef8496-97b7-4063-90ad-12f45bc371cd"
   },
   "outputs": [],
   "source": [
    "# Down-sample Majority Class\n",
    "\n",
    "count = train['Class'].value_counts()\n",
    "num_majority = count[0]\n",
    "num_minority = count[1]\n",
    "\n",
    "print(\"num_majority \",num_majority)\n",
    "print(\"num_minority \",num_minority)\n",
    "\n",
    "#separating majority and minority classes\n",
    "df_majority = train[train[\"Class\"] == 0]\n",
    "df_minority = train[train[\"Class\"] == 1]\n",
    "\n",
    "df_majority_undersampled = resample(df_majority, replace=False,\n",
    "                                   n_samples=num_minority,\n",
    "                                   random_state=123)\n",
    "\n",
    "df_undersampled = pd.concat([df_minority,df_majority_undersampled],axis=0)\n",
    "df_undersampled[\"Class\"] = df_undersampled[\"Class\"].astype(int)\n",
    "\n",
    "#splitting dependent and independent variables\n",
    "\n",
    "df_undersampled_X = df_undersampled[[i for i in df_undersampled.columns if i not in ['Class']]]\n",
    "df_undersampled_Y = df_undersampled[[\"Class\"]].astype(int)\n",
    "\n"
   ]
  },
  {
   "cell_type": "code",
   "execution_count": null,
   "metadata": {
    "colab": {
     "base_uri": "https://localhost:8080/"
    },
    "id": "xRLLZdssV5VU",
    "outputId": "f0520c58-2ca4-412f-dc8b-b836f6d1e7d7"
   },
   "outputs": [],
   "source": [
    "# Post Downsampling, 87+87 = 174\n",
    "df_undersampled_X.shape"
   ]
  },
  {
   "cell_type": "code",
   "execution_count": null,
   "metadata": {
    "colab": {
     "base_uri": "https://localhost:8080/"
    },
    "id": "Kg_Q5fMc_cWU",
    "outputId": "2b979d00-eaf8-42a8-97fc-dc8d965bbb6f"
   },
   "outputs": [],
   "source": [
    "df_undersampled_Y.shape"
   ]
  },
  {
   "cell_type": "markdown",
   "metadata": {
    "id": "VMElmU14_cWU"
   },
   "source": [
    "# Saving the balanced training data"
   ]
  },
  {
   "cell_type": "code",
   "execution_count": null,
   "metadata": {
    "colab": {
     "base_uri": "https://localhost:8080/",
     "height": 300
    },
    "id": "DKQHbgCS_cWU",
    "outputId": "6176bd2d-24de-4c97-9e1b-67114af7f2b0"
   },
   "outputs": [],
   "source": [
    "# Create a new DataFrame with the added column\n",
    "Train_data_raw_features = df_undersampled_X.copy()\n",
    "\n",
    "# Attaching 'Class'\n",
    "Train_data_raw_features['Class'] = df_undersampled[[\"Class\"]].astype(int)\n",
    "\n",
    "\n",
    "# Save the new DataFrame to a CSV file\n",
    "Train_data_raw_features.to_csv('Balanced_Train_data_raw_features.csv', index=False)\n",
    "\n",
    "# Print the new DataFrame\n",
    "Train_data_raw_features.head()"
   ]
  },
  {
   "cell_type": "code",
   "execution_count": null,
   "metadata": {
    "colab": {
     "base_uri": "https://localhost:8080/"
    },
    "id": "-l4SZAXv_cWV",
    "outputId": "fd8e2742-9c78-4e39-812a-18b6881ca722"
   },
   "outputs": [],
   "source": [
    "Train_data_raw_features[\"Class\"].value_counts()"
   ]
  },
  {
   "cell_type": "code",
   "execution_count": null,
   "metadata": {
    "colab": {
     "base_uri": "https://localhost:8080/"
    },
    "id": "zCjYoWQO_cWV",
    "outputId": "7bd449ce-a644-4f3d-ad04-8999fbcf3c33"
   },
   "outputs": [],
   "source": [
    "Train_data_raw_features.shape"
   ]
  },
  {
   "cell_type": "markdown",
   "metadata": {
    "id": "Va9Ja_Aq_cWV"
   },
   "source": [
    "# Saving the unbalanced test data"
   ]
  },
  {
   "cell_type": "code",
   "execution_count": null,
   "metadata": {
    "colab": {
     "base_uri": "https://localhost:8080/"
    },
    "id": "fb8-8ToI_cWV",
    "outputId": "90e9982a-f32f-4c2b-bc19-9ff26f57f833"
   },
   "outputs": [],
   "source": [
    "test.shape"
   ]
  },
  {
   "cell_type": "code",
   "execution_count": null,
   "metadata": {
    "colab": {
     "base_uri": "https://localhost:8080/",
     "height": 300
    },
    "id": "vloseuTE_cWV",
    "outputId": "866f46db-69ad-4feb-c662-3df6607932b3"
   },
   "outputs": [],
   "source": [
    "test.head()"
   ]
  },
  {
   "cell_type": "code",
   "execution_count": null,
   "metadata": {
    "colab": {
     "base_uri": "https://localhost:8080/"
    },
    "id": "PFI5Vq6g_cWV",
    "outputId": "30198eb6-7206-4e31-e1f3-9f44d321a6cb"
   },
   "outputs": [],
   "source": [
    "test[\"Class\"].value_counts()"
   ]
  },
  {
   "cell_type": "code",
   "execution_count": null,
   "metadata": {
    "id": "v9vdNHqy_cWV"
   },
   "outputs": [],
   "source": [
    "test.to_csv('Unbalanced_Test_data_raw_features.csv', index=False)"
   ]
  },
  {
   "cell_type": "markdown",
   "metadata": {
    "id": "Gu_NzvYxsTaD"
   },
   "source": [
    "# We could begin our training now with just the cleaned dataset with original features. Trying Gardient boosting machines"
   ]
  },
  {
   "cell_type": "markdown",
   "metadata": {
    "id": "z73tbQUC_cWW"
   },
   "source": [
    "# Due to low volume of data, trying Cross Validation training with 5 folds"
   ]
  },
  {
   "cell_type": "code",
   "execution_count": null,
   "metadata": {
    "colab": {
     "base_uri": "https://localhost:8080/"
    },
    "id": "vf1woBBm_cWW",
    "outputId": "70ff1bd6-19fe-4dcf-e55a-97be40b2e933"
   },
   "outputs": [],
   "source": [
    "clf = GradientBoostingClassifier(n_estimators=1000,\n",
    "                 learning_rate=0.01,\n",
    "                 max_depth=3,\n",
    "                 random_state=42,loss='log_loss')\n",
    "\n",
    "scores = cross_validate(clf, df_undersampled_X,np.array(df_undersampled_Y['Class']), cv=5, return_estimator=True)\n",
    "print(scores)\n"
   ]
  },
  {
   "cell_type": "markdown",
   "metadata": {
    "id": "KbYkLChQ_cWW"
   },
   "source": [
    "#Using the fold 1 estimator as it had the highest accuracy out of 5 splits."
   ]
  },
  {
   "cell_type": "markdown",
   "metadata": {
    "id": "VrxRhPo-ExBF"
   },
   "source": [
    "The balanced_accuracy_score function computes the balanced accuracy, which avoids inflated performance estimates on imbalanced datasets. It is the macro-average of recall scores per class or, equivalently, raw accuracy where each sample is weighted according to the inverse prevalence of its true class. Thus for balanced datasets, the score is equal to accuracy.\n",
    "\n",
    "In the binary case, balanced accuracy is equal to the arithmetic mean of sensitivity (true positive rate) and specificity (true negative rate), or the area under the ROC curve with binary predictions rather than scores:\n",
    "\n",
    "\n",
    "\n",
    "\n",
    "balanced-accuracy = ![Screenshot 2023-06-24 at 6.03.08 PM.png](data:image/png;base64,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)\n",
    "\n",
    "If the classifier performs equally well on either class, this term reduces to the conventional accuracy (i.e., the number of correct predictions divided by the total number of predictions).\n",
    "\n",
    "In contrast, if the conventional accuracy is above chance only because the classifier takes advantage of an imbalanced test set, then the balanced accuracy, as appropriate, will drop to 1/n_classes."
   ]
  },
  {
   "cell_type": "code",
   "execution_count": null,
   "metadata": {
    "colab": {
     "base_uri": "https://localhost:8080/",
     "height": 467
    },
    "id": "ZFRxk76t_cWW",
    "outputId": "1fc4a3d0-5858-4704-ea2b-e8b3ea15b56d"
   },
   "outputs": [],
   "source": [
    "clf = scores['estimator'][0]\n",
    "clf.fit(df_undersampled_X,np.array(df_undersampled_Y['Class']))\n",
    "y_pred_gb= clf.predict(test_X)\n",
    "accuracy = balanced_accuracy_score(test_Y, y_pred_gb)\n",
    "print(\"balanced_accuracy_score \",accuracy)\n",
    "cm = confusion_matrix(test_Y, y_pred_gb, labels=clf.classes_)\n",
    "disp = ConfusionMatrixDisplay(confusion_matrix=cm,display_labels=clf.classes_)\n",
    "disp.plot()\n",
    "plt.show()\n"
   ]
  },
  {
   "cell_type": "code",
   "execution_count": null,
   "metadata": {
    "colab": {
     "base_uri": "https://localhost:8080/"
    },
    "id": "blSwqWn2FtpG",
    "outputId": "0d988baa-1094-4ae5-ac3f-9fd568fb5e69"
   },
   "outputs": [],
   "source": [
    "target_names = ['class 0', 'class 1']\n",
    "print(classification_report(test_Y, y_pred_gb, target_names=target_names))"
   ]
  },
  {
   "cell_type": "markdown",
   "metadata": {
    "id": "T-sU50rb_cWW"
   },
   "source": [
    "# Can we do better ?"
   ]
  },
  {
   "cell_type": "markdown",
   "metadata": {
    "id": "qtRnhzfT_cWW"
   },
   "source": [
    "Using PCA with 2 and 3 components for visualization"
   ]
  },
  {
   "cell_type": "code",
   "execution_count": null,
   "metadata": {
    "id": "rhtUsdv5lBB5"
   },
   "outputs": [],
   "source": [
    "pca = PCA(n_components=2,whiten=True)\n",
    "pca.fit(df_undersampled_X)\n",
    "X_2D=pca.transform(df_undersampled_X)"
   ]
  },
  {
   "cell_type": "code",
   "execution_count": null,
   "metadata": {
    "colab": {
     "base_uri": "https://localhost:8080/",
     "height": 506
    },
    "id": "6OhMyUyUronR",
    "outputId": "c4e774ff-571d-4658-a8a3-e26c2031c37c"
   },
   "outputs": [],
   "source": [
    "df_undersampled['PCA1'] = X_2D[:, 0]\n",
    "df_undersampled['PCA2'] = X_2D[:, 1]\n",
    "sns.lmplot(x=\"PCA1\", y=\"PCA2\", hue='Class', data=df_undersampled, fit_reg=False);"
   ]
  },
  {
   "cell_type": "markdown",
   "metadata": {
    "id": "QPfHMNm1lPAK"
   },
   "source": [
    "We see that in the two-dimensional representation, the clusters are not well separated."
   ]
  },
  {
   "cell_type": "code",
   "execution_count": null,
   "metadata": {
    "id": "Efe4Jn1VuUoT"
   },
   "outputs": [],
   "source": [
    "pca_2=PCA(n_components=3)\n",
    "pca_2.fit(df_undersampled_X)\n",
    "X_3D=pca_2.transform(df_undersampled_X)"
   ]
  },
  {
   "cell_type": "code",
   "execution_count": null,
   "metadata": {
    "id": "w4fLHvxiulTB"
   },
   "outputs": [],
   "source": [
    "a = X_3D[:, 0]\n",
    "b = X_3D[:, 1]\n",
    "d = X_3D[:, 2]"
   ]
  },
  {
   "cell_type": "code",
   "execution_count": null,
   "metadata": {
    "colab": {
     "base_uri": "https://localhost:8080/",
     "height": 825
    },
    "id": "EsZzGHFavI3u",
    "outputId": "b08fc26a-d8a7-428b-9125-5930adcb75dc"
   },
   "outputs": [],
   "source": [
    "from mpl_toolkits import mplot3d\n",
    "from matplotlib.colors import ListedColormap\n",
    "mycmap = ListedColormap([\"blue\", \"red\"])\n",
    "fig = plt.figure(figsize=(10,10))\n",
    "ax = plt.axes(projection='3d')\n",
    "ax.scatter3D(a,b,d, c=df_undersampled_Y, marker = 'o', alpha=0.8, s=100, cmap=mycmap, edgecolor='k')\n",
    "ax.set_xlabel('First principal component')\n",
    "ax.set_ylabel('Second principal component')\n",
    "ax.set_zlabel('Third principal component')"
   ]
  },
  {
   "cell_type": "markdown",
   "metadata": {
    "id": "U334S7uE_cWX"
   },
   "source": [
    "# Lets find out the minimum no of PCA components needed to explain 100% of the variance in our balanced training dataset with original features\n"
   ]
  },
  {
   "cell_type": "code",
   "execution_count": null,
   "metadata": {
    "id": "4H2_-MjY4kL6"
   },
   "outputs": [],
   "source": [
    "pca_3=PCA(n_components=None)\n",
    "pca_3.fit(df_undersampled_X)\n",
    "X_pca=pca_3.transform(df_undersampled_X)"
   ]
  },
  {
   "cell_type": "code",
   "execution_count": null,
   "metadata": {
    "colab": {
     "base_uri": "https://localhost:8080/"
    },
    "id": "1eF19ktU8jgH",
    "outputId": "e999c190-1bc6-44d4-f41b-b0c86e877838"
   },
   "outputs": [],
   "source": [
    "pca_3.n_components_"
   ]
  },
  {
   "cell_type": "code",
   "execution_count": null,
   "metadata": {
    "colab": {
     "base_uri": "https://localhost:8080/",
     "height": 607
    },
    "id": "2jvia0JO5Irv",
    "outputId": "baa0f0ce-b173-4d84-9e94-22cc28215db0"
   },
   "outputs": [],
   "source": [
    "exp_var = pca_3.explained_variance_ratio_ * 100\n",
    "cum_exp_var = np.cumsum(exp_var)\n",
    "plt.figure(figsize=(12, 6))\n",
    "plt.bar(range(1, 53), exp_var, align='center',\n",
    "        label='Individual explained variance')\n",
    "\n",
    "plt.step(range(1, 53), cum_exp_var, where='mid',\n",
    "         label='Cumulative explained variance', color='red')\n",
    "\n",
    "plt.ylabel('Explained variance percentage')\n",
    "plt.xlabel('Principal component index')\n",
    "plt.xticks(ticks=np.arange(1, 53))\n",
    "plt.legend(loc='best')\n",
    "plt.tight_layout()\n",
    "\n",
    "plt.savefig(\"Barplot.png\")"
   ]
  },
  {
   "cell_type": "markdown",
   "metadata": {
    "id": "IDtSR4oU_cWY"
   },
   "source": [
    "Using 35 or 36 PCA components, we can explain 100% of the variance in the data"
   ]
  },
  {
   "cell_type": "code",
   "execution_count": null,
   "metadata": {
    "id": "BT3ODIpw_1H_"
   },
   "outputs": [],
   "source": [
    "pca_4=PCA(n_components=0.99)\n",
    "pca_4.fit(df_undersampled_X)\n",
    "X_pca_4=pca_4.transform(df_undersampled_X)\n"
   ]
  },
  {
   "cell_type": "code",
   "execution_count": null,
   "metadata": {
    "colab": {
     "base_uri": "https://localhost:8080/"
    },
    "id": "flGyQYmtAAoL",
    "outputId": "3ecf9613-f3fd-43db-c83b-7866d7a393de"
   },
   "outputs": [],
   "source": [
    "pca_4.n_components_"
   ]
  },
  {
   "cell_type": "code",
   "execution_count": null,
   "metadata": {
    "colab": {
     "base_uri": "https://localhost:8080/"
    },
    "id": "xts4Ph1KAGG5",
    "outputId": "232b3e16-c638-46e4-b720-d123860a20cd"
   },
   "outputs": [],
   "source": [
    "# Building a dataframe from the Principal Components array\n",
    "\n",
    "pca_db_cols = [] # Initialize an empty array to hold the column names\n",
    "for i in range(0, len(X_pca_4[0])): # Iterate through the number of columns in the array\n",
    "  pca_db_cols.append(\"PC\"+str(i)) # Build and append column names\n",
    "pca_db_df = pd.DataFrame(data=X_pca_4, columns=pca_db_cols)\n",
    "pca_db_df.shape"
   ]
  },
  {
   "cell_type": "code",
   "execution_count": null,
   "metadata": {
    "colab": {
     "base_uri": "https://localhost:8080/"
    },
    "id": "H96Ywr9O_cWY",
    "outputId": "1183d6ed-18e6-4c81-9b2b-69ef90bd53f9"
   },
   "outputs": [],
   "source": [
    "from sklearn.model_selection import cross_validate\n",
    "\n",
    "\n",
    "clf = GradientBoostingClassifier(n_estimators=1000,\n",
    "                 learning_rate=0.01,\n",
    "                 max_depth=3,\n",
    "                 random_state=42,loss='log_loss')\n",
    "\n",
    "scores = cross_validate(clf, pca_db_df,np.array(df_undersampled_Y['Class']), cv=5, return_estimator=True)\n",
    "print(scores)\n"
   ]
  },
  {
   "cell_type": "code",
   "execution_count": null,
   "metadata": {
    "id": "kbfjOfP8_cWY"
   },
   "outputs": [],
   "source": [
    "test_X_pca = pca_4.transform(test_X)"
   ]
  },
  {
   "cell_type": "code",
   "execution_count": null,
   "metadata": {
    "colab": {
     "base_uri": "https://localhost:8080/",
     "height": 523
    },
    "id": "k1m-hOcJ_cWY",
    "outputId": "c033e281-1b90-4551-af58-83338f571364"
   },
   "outputs": [],
   "source": [
    "clf = scores['estimator'][0]\n",
    "clf.fit(pca_db_df,np.array(df_undersampled_Y['Class']))\n",
    "y_pred_gb= clf.predict(test_X_pca)\n",
    "accuracy = balanced_accuracy_score(test_Y, y_pred_gb)\n",
    "print(\"balanced_accuracy_score \",accuracy)\n",
    "cm = confusion_matrix(test_Y, y_pred_gb, labels=clf.classes_)\n",
    "disp = ConfusionMatrixDisplay(confusion_matrix=cm,display_labels=clf.classes_)\n",
    "disp.plot()\n",
    "plt.show()"
   ]
  },
  {
   "cell_type": "markdown",
   "metadata": {
    "id": "qR7qUpBi_cWY"
   },
   "source": [
    "Thus we see using 35 PCA components instead of 53 original features, our models performance is better.\n",
    "balanced_accuracy_score  0.8552935737401757"
   ]
  },
  {
   "cell_type": "code",
   "execution_count": null,
   "metadata": {
    "colab": {
     "base_uri": "https://localhost:8080/"
    },
    "id": "gS5nYpNuNUT7",
    "outputId": "26e0e7b9-5524-4ddb-f128-478514239ba7"
   },
   "outputs": [],
   "source": [
    "target_names = ['class 0', 'class 1']\n",
    "print(classification_report(test_Y, y_pred_gb, target_names=target_names))"
   ]
  },
  {
   "cell_type": "markdown",
   "metadata": {
    "id": "-s1zUEH3_cWZ"
   },
   "source": [
    "#Combining 35 PCA components & 30 best original features."
   ]
  },
  {
   "cell_type": "code",
   "execution_count": null,
   "metadata": {
    "colab": {
     "base_uri": "https://localhost:8080/"
    },
    "id": "zn835ZaejQZK",
    "outputId": "bc8500db-2a42-4f88-9ac3-68d0216db066"
   },
   "outputs": [],
   "source": [
    "from sklearn.feature_selection import SelectKBest\n",
    "from sklearn.pipeline import Pipeline, FeatureUnion\n",
    "\n",
    "selection = SelectKBest(k=30)\n",
    "\n",
    "pca = PCA(n_components=0.99)\n",
    "\n",
    "# Build estimator from PCA and Univariate selection:\n",
    "combined_features = FeatureUnion([(\"pca\", pca), (\"univ_select\", selection)])\n",
    "\n",
    "# Use combined features to transform dataset:\n",
    "X_features = combined_features.fit(df_undersampled_X, np.array(df_undersampled_Y['Class'])).transform(df_undersampled_X)\n",
    "print(\"Combined space has\", X_features.shape[1], \"features\")\n"
   ]
  },
  {
   "cell_type": "code",
   "execution_count": null,
   "metadata": {
    "colab": {
     "base_uri": "https://localhost:8080/"
    },
    "id": "2VURk8Xj_cWZ",
    "outputId": "f09ffe7a-f9b5-4d63-cc04-b8334c05a1d9"
   },
   "outputs": [],
   "source": [
    "X_features.shape"
   ]
  },
  {
   "cell_type": "code",
   "execution_count": null,
   "metadata": {
    "colab": {
     "base_uri": "https://localhost:8080/"
    },
    "id": "Hpso30Aa_cWZ",
    "outputId": "29583fb0-1742-491c-815f-e66315487f65"
   },
   "outputs": [],
   "source": [
    "# Using the combining estimator to transform test dataset:\n",
    "test_X_features = combined_features.transform(test_X)\n",
    "test_X_features.shape"
   ]
  },
  {
   "cell_type": "code",
   "execution_count": null,
   "metadata": {
    "id": "bMHuQfq6_cWZ"
   },
   "outputs": [],
   "source": [
    "b = df_undersampled_Y[\"Class\"].values.tolist()"
   ]
  },
  {
   "cell_type": "code",
   "execution_count": null,
   "metadata": {
    "colab": {
     "base_uri": "https://localhost:8080/"
    },
    "id": "03LKADrA_cWZ",
    "outputId": "014a6d32-318a-427d-9433-c865d4e80ebe"
   },
   "outputs": [],
   "source": [
    "combined_dataframe = pd.DataFrame(X_features)\n",
    "\n",
    "# Attaching 'Class'\n",
    "combined_dataframe['Class'] = b\n",
    "\n",
    "combined_dataframe[\"Class\"].value_counts()"
   ]
  },
  {
   "cell_type": "code",
   "execution_count": null,
   "metadata": {
    "colab": {
     "base_uri": "https://localhost:8080/"
    },
    "id": "nCogF-AF_cWZ",
    "outputId": "c9be5a54-bb7e-46bf-bafe-9b66f8f6d01e"
   },
   "outputs": [],
   "source": [
    "combined_dataframe.shape"
   ]
  },
  {
   "cell_type": "code",
   "execution_count": null,
   "metadata": {
    "id": "I68SMeRw_cWZ"
   },
   "outputs": [],
   "source": [
    "c = test_Y[\"Class\"].values.tolist()"
   ]
  },
  {
   "cell_type": "code",
   "execution_count": null,
   "metadata": {
    "colab": {
     "base_uri": "https://localhost:8080/"
    },
    "id": "jnwVGzPK_cWZ",
    "outputId": "27c36795-da76-406a-aaa4-45137632642a"
   },
   "outputs": [],
   "source": [
    "combined_test_dataframe = pd.DataFrame(test_X_features)\n",
    "\n",
    "# Attaching 'Class'\n",
    "combined_test_dataframe['Class'] = c\n",
    "\n",
    "combined_test_dataframe[\"Class\"].value_counts()"
   ]
  },
  {
   "cell_type": "code",
   "execution_count": null,
   "metadata": {
    "colab": {
     "base_uri": "https://localhost:8080/"
    },
    "id": "2YpMxipq_cWa",
    "outputId": "e6eff0bd-0b19-4194-f5f8-07690f030b1f"
   },
   "outputs": [],
   "source": [
    "combined_test_dataframe.shape"
   ]
  },
  {
   "cell_type": "code",
   "execution_count": null,
   "metadata": {
    "colab": {
     "base_uri": "https://localhost:8080/",
     "height": 300
    },
    "id": "zK9dqZ1s_cWa",
    "outputId": "37a929e1-0c8a-47d2-a0a2-2bbd8e2c40fd"
   },
   "outputs": [],
   "source": [
    "combined_test_dataframe.head()"
   ]
  },
  {
   "cell_type": "markdown",
   "metadata": {
    "id": "AYmns-2M_cWa"
   },
   "source": [
    "# Saving the combined features of training and transformed test features to the combined space"
   ]
  },
  {
   "cell_type": "code",
   "execution_count": null,
   "metadata": {
    "id": "iE2IBIGU_cWa"
   },
   "outputs": [],
   "source": [
    "combined_dataframe.to_csv(\"dataset_65_features_train.csv\")\n",
    "combined_test_dataframe.to_csv(\"dataset_65_features_test.csv\")"
   ]
  },
  {
   "cell_type": "markdown",
   "metadata": {
    "id": "XKllUBPK_cWa"
   },
   "source": [
    "# Performing Cross Validation on the new dataset"
   ]
  },
  {
   "cell_type": "code",
   "execution_count": null,
   "metadata": {
    "colab": {
     "base_uri": "https://localhost:8080/"
    },
    "id": "kP8mI4ZBGwjC",
    "outputId": "32122c1a-2cfe-4602-ad13-215207a21081"
   },
   "outputs": [],
   "source": [
    "from tensorflow import keras\n",
    "from keras.models import Sequential\n",
    "from keras.layers import Dense, Dropout, Activation, Flatten\n",
    "from keras.layers import Conv1D, MaxPooling1D, BatchNormalization\n",
    "from keras.losses import categorical_crossentropy\n",
    "from keras.optimizers import Adam\n",
    "\n",
    "model = Sequential()\n",
    "model.add(Conv1D(32, 3, activation='relu', input_shape=(65, 1)))\n",
    "# model.add(MaxPooling1D(2))\n",
    "model.add(Flatten())\n",
    "model.add(Dense(64, activation='relu'))\n",
    "model.add(Dense(128, activation='relu'))\n",
    "model.add(Dense(1, activation='sigmoid'))\n",
    "\n",
    "# Compiling the model\n",
    "model.compile(optimizer='adam',\n",
    "              loss='binary_crossentropy',\n",
    "              metrics=['accuracy'])\n",
    "\n",
    "# Training the model\n",
    "history = model.fit(X_features,np.array(df_undersampled_Y['Class']), epochs=30, batch_size=32, verbose=1)\n"
   ]
  },
  {
   "cell_type": "code",
   "execution_count": null,
   "metadata": {
    "colab": {
     "base_uri": "https://localhost:8080/"
    },
    "id": "exVfLRFAJxIY",
    "outputId": "bc7d3870-e2d3-4432-f6aa-63a2756a7fea"
   },
   "outputs": [],
   "source": [
    "# Evaluating the model\n",
    "\n",
    "_, accuracy = model.evaluate(test_X_features, test_Y, verbose=0)\n",
    "print(\"Accuracy:\", accuracy)"
   ]
  },
  {
   "cell_type": "code",
   "execution_count": null,
   "metadata": {
    "colab": {
     "base_uri": "https://localhost:8080/",
     "height": 467
    },
    "id": "t8xrIuQ2K4sZ",
    "outputId": "3f88fc46-f579-4150-d245-9a2916a62085"
   },
   "outputs": [],
   "source": [
    "y_pred_gb= model.predict(test_X_features)\n",
    "threshold = 0.5  # Adjust the threshold value as per your requirement\n",
    "\n",
    "# Applying the threshold to obtain predicted labels\n",
    "y_pred = (y_pred_gb >= threshold).astype(int)\n",
    "\n",
    "cm = confusion_matrix(test_Y, y_pred, labels=clf.classes_)\n",
    "disp = ConfusionMatrixDisplay(confusion_matrix=cm,display_labels=clf.classes_)\n",
    "disp.plot()\n",
    "plt.show()\n"
   ]
  },
  {
   "cell_type": "code",
   "execution_count": null,
   "metadata": {
    "colab": {
     "base_uri": "https://localhost:8080/"
    },
    "id": "zvDO7MaD_cWa",
    "outputId": "8e3e5bf9-3d13-466e-aace-2f5ce116f5b4"
   },
   "outputs": [],
   "source": [
    "from sklearn.model_selection import cross_validate\n",
    "\n",
    "\n",
    "clf = GradientBoostingClassifier(n_estimators=1000,\n",
    "                 learning_rate=0.01,\n",
    "                 max_depth=3,\n",
    "                 random_state=42,loss='log_loss')\n",
    "\n",
    "scores = cross_validate(clf, X_features,np.array(df_undersampled_Y['Class']), cv=5, return_estimator=True)\n",
    "print(scores)\n"
   ]
  },
  {
   "cell_type": "code",
   "execution_count": null,
   "metadata": {
    "colab": {
     "base_uri": "https://localhost:8080/",
     "height": 467
    },
    "id": "zNZf9mG8_cWa",
    "outputId": "c47dffc2-3aff-4570-bba5-4344606775a5"
   },
   "outputs": [],
   "source": [
    "\n",
    "clf = scores['estimator'][2]\n",
    "clf.fit(X_features,np.array(df_undersampled_Y['Class']))\n",
    "y_pred_gb= clf.predict(test_X_features)\n",
    "accuracy = balanced_accuracy_score(test_Y, y_pred_gb)\n",
    "print(\"balanced_accuracy_score \",accuracy)\n",
    "cm = confusion_matrix(test_Y, y_pred_gb, labels=clf.classes_)\n",
    "disp = ConfusionMatrixDisplay(confusion_matrix=cm,display_labels=clf.classes_)\n",
    "disp.plot()\n",
    "plt.show()\n",
    "\n"
   ]
  },
  {
   "cell_type": "markdown",
   "metadata": {
    "id": "lnUTDr5l_cWa"
   },
   "source": [
    "Thus with in the combined space, our model performance gets slightly better ."
   ]
  },
  {
   "cell_type": "markdown",
   "metadata": {
    "id": "0kY0gXsj_cWa"
   },
   "source": [
    "# Since all our features are continuous, lets bin the  original dataset into intervals and then perform onehot encoding."
   ]
  },
  {
   "cell_type": "code",
   "execution_count": null,
   "metadata": {
    "colab": {
     "base_uri": "https://localhost:8080/"
    },
    "id": "8piQo6UCn_u5",
    "outputId": "fe8869b0-e0de-4d52-bb77-961e0833525f"
   },
   "outputs": [],
   "source": [
    "from sklearn.preprocessing import KBinsDiscretizer\n",
    "\n",
    "# transform the dataset with KBinsDiscretizer\n",
    "enc = KBinsDiscretizer(n_bins=2, encode=\"onehot\")\n",
    "enc.fit(df_undersampled_X)\n",
    "X_binned = enc.transform(df_undersampled_X)"
   ]
  },
  {
   "cell_type": "markdown",
   "metadata": {
    "id": "0dy6yxkX_cWa"
   },
   "source": [
    "Except 8 features , rest of them gets binned. There were 53 original features . After this step, we upgrade to 96 features."
   ]
  },
  {
   "cell_type": "code",
   "execution_count": null,
   "metadata": {
    "colab": {
     "base_uri": "https://localhost:8080/"
    },
    "id": "U-dmWGkV_cWb",
    "outputId": "333bd400-5fbc-4b80-9283-4db855512f84"
   },
   "outputs": [],
   "source": [
    "X_binned.shape"
   ]
  },
  {
   "cell_type": "markdown",
   "metadata": {
    "id": "rafE1FgM_cWb"
   },
   "source": [
    "Cross Validation on the new dataset"
   ]
  },
  {
   "cell_type": "code",
   "execution_count": null,
   "metadata": {
    "id": "FB76ViGr_cWb"
   },
   "outputs": [],
   "source": [
    "# Binning the test dataset\n",
    "test_X_features_binned=enc.transform(test_X)"
   ]
  },
  {
   "cell_type": "code",
   "execution_count": null,
   "metadata": {
    "colab": {
     "base_uri": "https://localhost:8080/"
    },
    "id": "osIYgIxQ_cWb",
    "outputId": "2bad5823-fcdc-49b1-c4af-1981e5ddae30"
   },
   "outputs": [],
   "source": [
    "test_X_features_binned.shape"
   ]
  },
  {
   "cell_type": "code",
   "execution_count": null,
   "metadata": {
    "colab": {
     "base_uri": "https://localhost:8080/"
    },
    "id": "30l1zFhy_cWb",
    "outputId": "7b65c5c2-5d4c-4714-fe3c-63ca6e981402"
   },
   "outputs": [],
   "source": [
    "from sklearn.model_selection import cross_validate\n",
    "\n",
    "\n",
    "clf = GradientBoostingClassifier(n_estimators=1000,\n",
    "                 learning_rate=0.01,\n",
    "                 max_depth=3,\n",
    "                 random_state=42,loss='log_loss')\n",
    "\n",
    "scores = cross_validate(clf, X_binned,np.array(df_undersampled_Y['Class']), cv=5, return_estimator=True)\n",
    "print(scores)\n"
   ]
  },
  {
   "cell_type": "code",
   "execution_count": null,
   "metadata": {
    "colab": {
     "base_uri": "https://localhost:8080/",
     "height": 467
    },
    "id": "n6hx1CIr_cWb",
    "outputId": "e29fbdf6-f6d9-43b8-e149-1d56616936e8"
   },
   "outputs": [],
   "source": [
    "clf = scores['estimator'][0]\n",
    "clf.fit(X_binned,np.array(df_undersampled_Y['Class']))\n",
    "y_pred_gb= clf.predict(test_X_features_binned)\n",
    "accuracy = balanced_accuracy_score(test_Y, y_pred_gb)\n",
    "print(\"balanced_accuracy_score \",accuracy)\n",
    "cm = confusion_matrix(test_Y, y_pred_gb, labels=clf.classes_)\n",
    "disp = ConfusionMatrixDisplay(confusion_matrix=cm,display_labels=clf.classes_)\n",
    "disp.plot()\n",
    "plt.show()"
   ]
  },
  {
   "cell_type": "markdown",
   "metadata": {
    "id": "hf5ooTmH_cWb"
   },
   "source": [
    "# Just binning the original features, degraded our performance. Not saving this dataset for future modelling.\n",
    "\n",
    "Lets create a new dataset with TruncatedSVD applied on original datset with 51 features and 40 best original features"
   ]
  },
  {
   "cell_type": "code",
   "execution_count": null,
   "metadata": {
    "colab": {
     "base_uri": "https://localhost:8080/"
    },
    "id": "kZ-hsT3h_cWb",
    "outputId": "a3308eeb-b9a7-4004-e518-97ea5d4e285f"
   },
   "outputs": [],
   "source": [
    "from sklearn.feature_selection import SelectKBest\n",
    "from sklearn.pipeline import Pipeline, FeatureUnion\n",
    "from sklearn.decomposition import TruncatedSVD\n",
    "from scipy.sparse import csr_matrix\n",
    "X = csr_matrix(df_undersampled_X)\n",
    "selection = SelectKBest(k=40)\n",
    "\n",
    "svd = TruncatedSVD(n_components=50, n_iter=8, random_state=42)\n",
    "\n",
    "# Build estimator from svd and Univariate selection:\n",
    "combined_features = FeatureUnion([(\"svd\", svd), (\"univ_select\", selection)])\n",
    "\n",
    "# Use combined features to transform dataset:\n",
    "X_features = combined_features.fit(X, np.array(df_undersampled_Y['Class'])).transform(X)\n",
    "print(\"Combined space has\", X_features.shape[1], \"features\")\n"
   ]
  },
  {
   "cell_type": "code",
   "execution_count": null,
   "metadata": {
    "colab": {
     "base_uri": "https://localhost:8080/"
    },
    "id": "2tFDrmrT_cWb",
    "outputId": "bc8a495b-4c09-480b-d2bf-6f8ae661c39d"
   },
   "outputs": [],
   "source": [
    "X_features.shape"
   ]
  },
  {
   "cell_type": "code",
   "execution_count": null,
   "metadata": {
    "id": "gw3MgBN0_cWb"
   },
   "outputs": [],
   "source": [
    "# Transforming the Test dataset to the combined space\n",
    "test_X_features_enc = csr_matrix(test_X)\n",
    "test_X_features_enc=combined_features.transform(test_X_features_enc)"
   ]
  },
  {
   "cell_type": "markdown",
   "metadata": {
    "id": "CEcTftCi_cWb"
   },
   "source": [
    "# In this training dataset, in the first fold we have converged."
   ]
  },
  {
   "cell_type": "code",
   "execution_count": null,
   "metadata": {
    "colab": {
     "base_uri": "https://localhost:8080/"
    },
    "id": "T8-QvcdX1mL8",
    "outputId": "0647b6fe-9994-4750-cc29-07864529e083"
   },
   "outputs": [],
   "source": [
    "from sklearn.model_selection import cross_validate\n",
    "\n",
    "clf = GradientBoostingClassifier(n_estimators=1000,\n",
    "                 learning_rate=0.01,\n",
    "                 max_depth=2,\n",
    "                 random_state=40,loss='log_loss')\n",
    "\n",
    "scores = cross_validate(clf, X_features,np.array(df_undersampled_Y['Class']), cv=5, return_estimator=True)\n",
    "print(scores)"
   ]
  },
  {
   "cell_type": "code",
   "execution_count": null,
   "metadata": {
    "colab": {
     "base_uri": "https://localhost:8080/",
     "height": 469
    },
    "id": "xDUL9mfY_cWc",
    "outputId": "83f191dd-a76f-4f24-b2cb-87a01dd16961"
   },
   "outputs": [],
   "source": [
    "clf = scores['estimator'][0]\n",
    "clf.fit(X_features,np.array(df_undersampled_Y['Class']))\n",
    "y_pred_gb= clf.predict(test_X_features_enc)\n",
    "accuracy = balanced_accuracy_score(test_Y, y_pred_gb)\n",
    "print(\"balanced_accuracy_score \",accuracy)\n",
    "cm = confusion_matrix(test_Y, y_pred_gb, labels=clf.classes_)\n",
    "disp = ConfusionMatrixDisplay(confusion_matrix=cm,display_labels=clf.classes_)\n",
    "disp.plot()\n",
    "plt.show()"
   ]
  },
  {
   "cell_type": "code",
   "execution_count": null,
   "metadata": {
    "colab": {
     "base_uri": "https://localhost:8080/",
     "height": 300
    },
    "id": "b_25tw1n_cWc",
    "outputId": "ee47000c-8904-47be-9493-51b12b7fe60e"
   },
   "outputs": [],
   "source": [
    "# Convert sparse matrix to DataFrame\n",
    "sparse_matrix_dataframe = pd.DataFrame.sparse.from_spmatrix(X_features)\n",
    "sparse_matrix_dataframe.head()"
   ]
  },
  {
   "cell_type": "code",
   "execution_count": null,
   "metadata": {
    "id": "neIczPks_cWc"
   },
   "outputs": [],
   "source": [
    "# Attaching 'Class'\n",
    "sparse_matrix_dataframe['Class'] = b"
   ]
  },
  {
   "cell_type": "code",
   "execution_count": null,
   "metadata": {
    "colab": {
     "base_uri": "https://localhost:8080/"
    },
    "id": "fKIVrTLJ_cWc",
    "outputId": "5e3531ed-281d-45ff-fed1-292761b6c5ae"
   },
   "outputs": [],
   "source": [
    "sparse_matrix_dataframe.shape"
   ]
  },
  {
   "cell_type": "code",
   "execution_count": null,
   "metadata": {
    "colab": {
     "base_uri": "https://localhost:8080/",
     "height": 300
    },
    "id": "itIA4MgO_cWc",
    "outputId": "30c9bff4-9829-4517-b947-f61b0c3f9c93"
   },
   "outputs": [],
   "source": [
    "# Convert test sparse matrix to DataFrame\n",
    "test_sparse_matrix_dataframe = pd.DataFrame.sparse.from_spmatrix(test_X_features_enc)\n",
    "test_sparse_matrix_dataframe.head()"
   ]
  },
  {
   "cell_type": "code",
   "execution_count": null,
   "metadata": {
    "id": "KhiyaGZQ_cWc"
   },
   "outputs": [],
   "source": [
    "# Attaching 'Class'\n",
    "test_sparse_matrix_dataframe['Class'] = c"
   ]
  },
  {
   "cell_type": "markdown",
   "metadata": {
    "id": "AlzKmmdU_cWc"
   },
   "source": [
    "# Saving the dataframe for furthur modelling."
   ]
  },
  {
   "cell_type": "code",
   "execution_count": null,
   "metadata": {
    "colab": {
     "base_uri": "https://localhost:8080/"
    },
    "id": "VG-uPprC_cWc",
    "outputId": "fe7cbc45-d0e0-4eb7-d249-f1bb9bd32a31"
   },
   "outputs": [],
   "source": [
    "sparse_matrix_dataframe.to_csv(\"sparse_matrix_train.csv\")\n",
    "test_sparse_matrix_dataframe.to_csv(\"sparse_matrix_test.csv\")"
   ]
  },
  {
   "cell_type": "code",
   "execution_count": null,
   "metadata": {
    "colab": {
     "base_uri": "https://localhost:8080/"
    },
    "id": "BiqXECHdlDz1",
    "outputId": "ab2dc802-ab17-4576-c4d9-d2da2cb16ca3"
   },
   "outputs": [],
   "source": [
    "pip install autofeat"
   ]
  },
  {
   "cell_type": "markdown",
   "metadata": {
    "id": "Z8ptO_Jelbk6"
   },
   "source": [
    "AutoFeat\n",
    "\n",
    "Autofeat is another good feature engineering open-source library. It automates feature synthesis, feature selection, and fitting a linear machine learning model.\n",
    "\n",
    "The algorithm behind Autofeat is quite simple. It generates non-linear features, for example log(x), x2, or x3. And different operands are used like negative, positive and decimals, while creating the feature space. This results in exponential growth in the feature space. The categorical features are converted into one-hot encoded features.\n",
    "\n",
    "Now that we have so many features, it’s necessary to select important features. First Autofeat removes the highly correlated features, so now it relies on L1 regularization and removes the feature with low coefficient(features with low weights after training linear/logistic regression with L1 regularization). This process of selecting correlated features and removing the features with L1 regularization is repeated several times until only a few features are left. These features are selected through this iterative process which actually describes the dataset.\n",
    "\n"
   ]
  },
  {
   "cell_type": "code",
   "execution_count": null,
   "metadata": {
    "colab": {
     "base_uri": "https://localhost:8080/",
     "height": 407
    },
    "id": "45H91Cpg_cWc",
    "outputId": "f5f6ee4a-431a-49b6-8bb0-9b726215d5a6"
   },
   "outputs": [],
   "source": [
    "from autofeat import AutoFeatRegressor\n",
    "# Create an instance of AutoFeatRegressor\n",
    "afreg = AutoFeatRegressor()\n",
    "\n",
    "X_features=X_features.toarray()\n",
    "test_X_features_enc = test_X_features_enc.toarray()\n",
    "\n",
    "# Fit AutoFeatRegressor to the data\n",
    "afreg.fit(X_features, np.array(df_undersampled_Y['Class']))\n",
    "\n",
    "X_new = afreg.transform(X_features)\n",
    "test_X_new = afreg.transform(test_X_features_enc)"
   ]
  },
  {
   "cell_type": "code",
   "execution_count": null,
   "metadata": {
    "id": "tamR9ncB_cWc"
   },
   "outputs": [],
   "source": [
    "X_new.shape"
   ]
  },
  {
   "cell_type": "code",
   "execution_count": null,
   "metadata": {
    "id": "SdHT3lLT_cWc"
   },
   "outputs": [],
   "source": [
    "test_X_new.shape"
   ]
  },
  {
   "cell_type": "code",
   "execution_count": null,
   "metadata": {
    "colab": {
     "base_uri": "https://localhost:8080/"
    },
    "id": "hKcnFBpl_cWd",
    "outputId": "396571c1-c984-4990-f57f-7ba7d3a16d11"
   },
   "outputs": [],
   "source": [
    "clf = GradientBoostingClassifier(n_estimators=1000,\n",
    "                 learning_rate=0.01,\n",
    "                 max_depth=3,\n",
    "                 random_state=42,loss='log_loss')\n",
    "\n",
    "scores = cross_validate(clf, X_new,np.array(df_undersampled_Y['Class']), cv=5, return_estimator=True)\n",
    "print(scores)\n"
   ]
  },
  {
   "cell_type": "code",
   "execution_count": null,
   "metadata": {
    "id": "4vPv7PIf_cWd"
   },
   "outputs": [],
   "source": [
    "test_X_new = test_X_new.fillna(0)\n",
    "test_X_new = test_X_new.replace([np.inf, -np.inf], 0)\n",
    "test_X_new = test_X_new[[col for col in test_X_new.columns if col not in collinear_features]]"
   ]
  },
  {
   "cell_type": "code",
   "execution_count": null,
   "metadata": {
    "colab": {
     "base_uri": "https://localhost:8080/",
     "height": 466
    },
    "id": "130Vql0B_cWd",
    "outputId": "e2562146-6612-4960-f4dc-5d14e2669d43"
   },
   "outputs": [],
   "source": [
    "from sklearn.metrics import confusion_matrix\n",
    "from sklearn.metrics import ConfusionMatrixDisplay\n",
    "from sklearn.metrics import accuracy_score\n",
    "\n",
    "clf = scores['estimator'][0]\n",
    "clf.fit(X_new,np.array(df_undersampled_Y['Class']))\n",
    "y_pred_gb= clf.predict(test_X_new)\n",
    "accuracy = accuracy_score(test_Y, y_pred_gb)\n",
    "print(\"accuracy_score \",accuracy)\n",
    "cm = confusion_matrix(test_Y, y_pred_gb, labels=clf.classes_)\n",
    "disp = ConfusionMatrixDisplay(confusion_matrix=cm,display_labels=clf.classes_)\n",
    "disp.plot()\n",
    "plt.show()\n"
   ]
  },
  {
   "cell_type": "code",
   "execution_count": null,
   "metadata": {
    "colab": {
     "base_uri": "https://localhost:8080/"
    },
    "id": "pgtgGrEa_cWd",
    "outputId": "7023afaa-6ea3-4ada-a439-4b96c5437640"
   },
   "outputs": [],
   "source": [
    "!pip install pyod"
   ]
  },
  {
   "cell_type": "code",
   "execution_count": null,
   "metadata": {
    "id": "YEaMgy4e_cWd"
   },
   "outputs": [],
   "source": [
    "from pyod.models.abod import ABOD\n",
    "from pyod.models.cblof import CBLOF"
   ]
  },
  {
   "cell_type": "code",
   "execution_count": null,
   "metadata": {
    "colab": {
     "base_uri": "https://localhost:8080/",
     "height": 297
    },
    "id": "ID0WW4BanzVG",
    "outputId": "ea2c0993-ba08-44e3-febb-349a73187536"
   },
   "outputs": [],
   "source": [
    "# Create a new DataFrame with the added column\n",
    "Train_data_raw_features = df_undersampled_X.copy()\n",
    "\n",
    "# Attaching 'Class'\n",
    "Train_data_raw_features['Class'] = df_undersampled[[\"Class\"]].astype(int)\n",
    "\n",
    "# Save the new DataFrame to a CSV file\n",
    "Train_data_raw_features.to_csv('Balanced_Train_data_raw_features.csv', index=False)\n",
    "\n",
    "# Print the new DataFrame\n",
    "Train_data_raw_features.head()"
   ]
  },
  {
   "cell_type": "code",
   "execution_count": null,
   "metadata": {
    "colab": {
     "base_uri": "https://localhost:8080/"
    },
    "id": "6Q-ntWA6nzX8",
    "outputId": "5cb589fd-3fe9-4cc2-e204-ddfc8cfda5ec"
   },
   "outputs": [],
   "source": [
    "cblof_clf = CBLOF(contamination=0.05,check_estimator=False, random_state=40)\n",
    "cblof_clf.fit(Train_data_raw_features[['FS', 'Class']])\n",
    "Train_data_raw_features['CBLOF_Clf'] = cblof_clf.labels_"
   ]
  },
  {
   "cell_type": "code",
   "execution_count": null,
   "metadata": {
    "colab": {
     "base_uri": "https://localhost:8080/"
    },
    "id": "4RJX5YdMnzbP",
    "outputId": "a1dd015d-3ee7-4dd0-d8d9-d30805c666f3"
   },
   "outputs": [],
   "source": [
    "Train_data_raw_features['CBLOF_Clf'].value_counts()"
   ]
  },
  {
   "cell_type": "code",
   "execution_count": null,
   "metadata": {
    "colab": {
     "base_uri": "https://localhost:8080/"
    },
    "id": "wgjeUCLCnzfT",
    "outputId": "77c0cd0b-d408-46fa-e01e-f5bcc4f258cd"
   },
   "outputs": [],
   "source": [
    "cblof_clf = CBLOF(contamination=0.05,check_estimator=False, random_state=40)\n",
    "cblof_clf.fit(Train_data_raw_features[['AM', 'Class']])\n",
    "Train_data_raw_features['CBLOF_Clf'] = cblof_clf.labels_"
   ]
  },
  {
   "cell_type": "code",
   "execution_count": null,
   "metadata": {
    "colab": {
     "base_uri": "https://localhost:8080/"
    },
    "id": "3N4nCrwLnzi_",
    "outputId": "3daafcd9-d191-418d-a174-472a1d450203"
   },
   "outputs": [],
   "source": [
    "Train_data_raw_features['CBLOF_Clf'].value_counts()"
   ]
  },
  {
   "cell_type": "code",
   "execution_count": null,
   "metadata": {
    "colab": {
     "base_uri": "https://localhost:8080/"
    },
    "id": "DZh964NEnzms",
    "outputId": "ee5fc23c-e4d6-48d6-e4d2-12f6f2ec800c"
   },
   "outputs": [],
   "source": [
    "Train_data_raw_features.shape"
   ]
  },
  {
   "cell_type": "code",
   "execution_count": null,
   "metadata": {
    "colab": {
     "base_uri": "https://localhost:8080/"
    },
    "id": "TnOO7B8eBiDV",
    "outputId": "709a891c-0546-4fb3-ec52-5ae3541c6407"
   },
   "outputs": [],
   "source": [
    "# Drop rows where CBLOF_Clf is 1\n",
    "df_filtered = Train_data_raw_features.drop(Train_data_raw_features[Train_data_raw_features['CBLOF_Clf'] == 1].index)\n",
    "\n",
    "# Print the DataFrame after dropping rows\n",
    "df_filtered.shape"
   ]
  },
  {
   "cell_type": "code",
   "execution_count": null,
   "metadata": {
    "id": "ioYj5CtQBusZ"
   },
   "outputs": [],
   "source": [
    "# Separate the features (columns) and the target column\n",
    "X = df_filtered.drop(['Class','CBLOF_Clf'], axis=1)\n",
    "y = df_filtered['Class']"
   ]
  },
  {
   "cell_type": "code",
   "execution_count": null,
   "metadata": {
    "colab": {
     "base_uri": "https://localhost:8080/"
    },
    "id": "I4r5GuyUBx4q",
    "outputId": "dcd76b8a-60d1-42ee-a0b1-264c74d42e3b"
   },
   "outputs": [],
   "source": [
    "\n",
    "clf = GradientBoostingClassifier(n_estimators=1000,\n",
    "                 learning_rate=0.01,\n",
    "                 max_depth=3,\n",
    "                 random_state=42,loss='log_loss')\n",
    "\n",
    "scores = cross_validate(clf, X,y, cv=5, return_estimator=True)\n",
    "print(scores)\n"
   ]
  },
  {
   "cell_type": "code",
   "execution_count": null,
   "metadata": {
    "colab": {
     "base_uri": "https://localhost:8080/",
     "height": 466
    },
    "id": "jLuvytN2B2hT",
    "outputId": "53e2fe0a-afcc-4618-ceb0-eeeb6c855200"
   },
   "outputs": [],
   "source": [
    "clf = scores['estimator'][0]\n",
    "clf.fit(X,y)\n",
    "y_pred_gb= clf.predict(test_X)\n",
    "accuracy = accuracy_score(test_Y, y_pred_gb)\n",
    "print(\"accuracy_score \",accuracy)\n",
    "cm = confusion_matrix(test_Y, y_pred_gb, labels=clf.classes_)\n",
    "disp = ConfusionMatrixDisplay(confusion_matrix=cm,display_labels=clf.classes_)\n",
    "disp.plot()\n",
    "plt.show()"
   ]
  },
  {
   "cell_type": "code",
   "execution_count": null,
   "metadata": {
    "colab": {
     "base_uri": "https://localhost:8080/",
     "height": 297
    },
    "id": "Rw5oTn15DjTL",
    "outputId": "7d26e66d-17d7-4ef3-e816-b7faec45c7ed"
   },
   "outputs": [],
   "source": [
    "# Create a new DataFrame with the added column\n",
    "Train_data_raw_features = X_new.copy()\n",
    "\n",
    "# Attaching 'Class'\n",
    "Train_data_raw_features['Class'] = df_undersampled[[\"Class\"]].astype(int)\n",
    "\n",
    "\n",
    "# Print the new DataFrame\n",
    "Train_data_raw_features.head()"
   ]
  },
  {
   "cell_type": "code",
   "execution_count": null,
   "metadata": {
    "id": "lHKuG69uEo3h"
   },
   "outputs": [],
   "source": [
    "Train_data_raw_features = Train_data_raw_features.fillna(0)\n",
    "Train_data_raw_features = Train_data_raw_features.replace([np.inf, -np.inf], 0)\n",
    "# Train_data_raw_features = test_X_new[[col for col in test_X_new.columns if col not in collinear_features]]"
   ]
  },
  {
   "cell_type": "code",
   "execution_count": null,
   "metadata": {
    "colab": {
     "base_uri": "https://localhost:8080/"
    },
    "id": "Vh4-nuSsDjWT",
    "outputId": "345c8a3e-9dfa-45bc-e0cc-23fca1d11fd0"
   },
   "outputs": [],
   "source": [
    "cblof_clf = CBLOF(contamination=0.05,check_estimator=False, random_state=40)\n",
    "cblof_clf.fit(Train_data_raw_features[['x000', 'Class']])\n",
    "Train_data_raw_features['CBLOF_Clf'] = cblof_clf.labels_"
   ]
  },
  {
   "cell_type": "code",
   "execution_count": null,
   "metadata": {
    "colab": {
     "base_uri": "https://localhost:8080/"
    },
    "id": "BPXZBmNzDjZh",
    "outputId": "92430948-6e16-41d4-9911-aeb6709ded98"
   },
   "outputs": [],
   "source": [
    "Train_data_raw_features['CBLOF_Clf'].value_counts()"
   ]
  },
  {
   "cell_type": "code",
   "execution_count": null,
   "metadata": {
    "colab": {
     "base_uri": "https://localhost:8080/"
    },
    "id": "CsNlijwRDjcX",
    "outputId": "b9426d6d-c144-4d57-9139-6bcaf94eb4a4"
   },
   "outputs": [],
   "source": [
    "Train_data_raw_features.shape"
   ]
  },
  {
   "cell_type": "code",
   "execution_count": null,
   "metadata": {
    "colab": {
     "base_uri": "https://localhost:8080/"
    },
    "id": "08ByG6FLDjfh",
    "outputId": "83d98a95-4f47-4cba-a8ef-99935ee94fdb"
   },
   "outputs": [],
   "source": [
    "# Drop rows where CBLOF_Clf is 1\n",
    "df_filtered = Train_data_raw_features.drop(Train_data_raw_features[Train_data_raw_features['CBLOF_Clf'] == 1].index)\n",
    "\n",
    "# Print the DataFrame after dropping rows\n",
    "df_filtered.shape"
   ]
  },
  {
   "cell_type": "code",
   "execution_count": null,
   "metadata": {
    "id": "0p2GfHRIDji9"
   },
   "outputs": [],
   "source": [
    "# Separate the features (columns) and the target column\n",
    "X = df_filtered.drop(['Class','CBLOF_Clf'], axis=1)\n",
    "y = df_filtered['Class']"
   ]
  },
  {
   "cell_type": "code",
   "execution_count": null,
   "metadata": {
    "colab": {
     "base_uri": "https://localhost:8080/"
    },
    "id": "LLuR_kf2Djmm",
    "outputId": "cd15c8ac-9f2b-44c1-ee2f-340becb5c9c3"
   },
   "outputs": [],
   "source": [
    "clf = GradientBoostingClassifier(n_estimators=1000,\n",
    "                 learning_rate=0.01,\n",
    "                 max_depth=3,\n",
    "                 random_state=42,loss='log_loss')\n",
    "\n",
    "scores = cross_validate(clf, X,y, cv=5, return_estimator=True)\n",
    "print(scores)\n"
   ]
  },
  {
   "cell_type": "code",
   "execution_count": null,
   "metadata": {
    "colab": {
     "base_uri": "https://localhost:8080/",
     "height": 466
    },
    "id": "kS6Yw6szFNS2",
    "outputId": "645ef68b-b0ce-416c-b3e1-187eea30e338"
   },
   "outputs": [],
   "source": [
    "clf = scores['estimator'][4]\n",
    "clf.fit(X,y)\n",
    "y_pred_gb= clf.predict(test_X_new)\n",
    "accuracy = accuracy_score(test_Y, y_pred_gb)\n",
    "print(\"accuracy_score \",accuracy)\n",
    "cm = confusion_matrix(test_Y, y_pred_gb, labels=clf.classes_)\n",
    "disp = ConfusionMatrixDisplay(confusion_matrix=cm,display_labels=clf.classes_)\n",
    "disp.plot()\n",
    "plt.show()"
   ]
  },
  {
   "cell_type": "code",
   "execution_count": null,
   "metadata": {
    "colab": {
     "base_uri": "https://localhost:8080/",
     "height": 297
    },
    "id": "U-bk-KShG3Xw",
    "outputId": "88034ae7-6c92-47a5-dc21-050ecfcaa96f"
   },
   "outputs": [],
   "source": [
    "combined_dataframe.head()"
   ]
  },
  {
   "cell_type": "code",
   "execution_count": null,
   "metadata": {
    "colab": {
     "base_uri": "https://localhost:8080/"
    },
    "id": "lJl1T-d6HXSm",
    "outputId": "1233f385-7fcd-4e1a-a7d5-9b57385f651f"
   },
   "outputs": [],
   "source": [
    "cblof_clf = CBLOF(contamination=0.05,check_estimator=False, random_state=40)\n",
    "cblof_clf.fit(combined_dataframe[[0, 'Class']])\n",
    "combined_dataframe['CBLOF_Clf'] = cblof_clf.labels_"
   ]
  },
  {
   "cell_type": "code",
   "execution_count": null,
   "metadata": {
    "colab": {
     "base_uri": "https://localhost:8080/"
    },
    "id": "Hrmy0gTjHj1L",
    "outputId": "55dd7824-c82f-456a-8f53-95b4e856e903"
   },
   "outputs": [],
   "source": [
    "combined_dataframe['CBLOF_Clf'].value_counts()"
   ]
  },
  {
   "cell_type": "code",
   "execution_count": null,
   "metadata": {
    "colab": {
     "base_uri": "https://localhost:8080/"
    },
    "id": "wisBV7upHpBA",
    "outputId": "4943012c-7f67-4f8a-c718-b51f0b0f469d"
   },
   "outputs": [],
   "source": [
    "# Drop rows where CBLOF_Clf is 1\n",
    "df_filtered = combined_dataframe.drop(combined_dataframe[combined_dataframe['CBLOF_Clf'] == 1].index)\n",
    "\n",
    "# Print the DataFrame after dropping rows\n",
    "df_filtered.shape"
   ]
  },
  {
   "cell_type": "code",
   "execution_count": null,
   "metadata": {
    "id": "TCWb9aJMHzDT"
   },
   "outputs": [],
   "source": [
    "# Separate the features (columns) and the target column\n",
    "X = df_filtered.drop(['Class','CBLOF_Clf'], axis=1)\n",
    "y = df_filtered['Class']"
   ]
  },
  {
   "cell_type": "code",
   "execution_count": null,
   "metadata": {
    "colab": {
     "base_uri": "https://localhost:8080/"
    },
    "id": "7lnKJUYLH2qC",
    "outputId": "e467dcb1-5af0-4f62-c06d-e67d286848c9"
   },
   "outputs": [],
   "source": [
    "clf = GradientBoostingClassifier(n_estimators=1000,\n",
    "                 learning_rate=0.01,\n",
    "                 max_depth=3,\n",
    "                 random_state=42,loss='log_loss')\n",
    "\n",
    "scores = cross_validate(clf, X,y, cv=5, return_estimator=True)\n",
    "print(scores)\n"
   ]
  },
  {
   "cell_type": "code",
   "execution_count": null,
   "metadata": {
    "colab": {
     "base_uri": "https://localhost:8080/",
     "height": 466
    },
    "id": "K9SO_Q0OH7oh",
    "outputId": "f9e99d1f-6717-40d9-9a72-15140eee47dd"
   },
   "outputs": [],
   "source": [
    "clf = scores['estimator'][0]\n",
    "clf.fit(X,y)\n",
    "y_pred_gb= clf.predict(test_X_features)\n",
    "accuracy = balanced_accuracy_score(test_Y, y_pred_gb)\n",
    "print(\"accuracy_score \",accuracy)\n",
    "cm = confusion_matrix(test_Y, y_pred_gb, labels=clf.classes_)\n",
    "disp = ConfusionMatrixDisplay(confusion_matrix=cm,display_labels=clf.classes_)\n",
    "disp.plot()\n",
    "plt.show()"
   ]
  },
  {
   "cell_type": "markdown",
   "metadata": {
    "id": "YMSMOdqnm0JA"
   },
   "source": [
    "# Model Selection\n",
    "\n",
    "### Train Dataset"
   ]
  },
  {
   "cell_type": "markdown",
   "metadata": {
    "id": "SYKlJ9C6lBZP"
   },
   "source": [
    "As we want to minimize False Negatives or Type II Errors, we also want to make sure that at the same time we also try to minimize the False Positives or Type I Errors. The Gradient Boosting Classifier had performed best on the dataset with 90 features which was a combined trained dataset with 50 truncated SVD comp and 40 original features.\n",
    "Some other feature engineering we did included -\n",
    "\n",
    "1) Class distribution balanced was balanced.\n",
    "\n",
    "2) Features scaled.\n",
    "\n",
    "3) Missing values - none.\n",
    "\n",
    "4) Features with Correlation > 0.8 discarded.\n",
    "\n",
    "This was all done and saved as a csv file - 'sparse_matrix_train.csv'\n"
   ]
  },
  {
   "cell_type": "code",
   "execution_count": null,
   "metadata": {
    "id": "tuJuEshXlAP0"
   },
   "outputs": [],
   "source": [
    "sparse_matrix_dataframe = pd.read_csv('sparse_matrix_train.csv')\n",
    "\n",
    "# Removing this column, as this is just the number of rows.\n",
    "sparse_matrix_dataframe.drop('Unnamed: 0', axis=1, inplace=True)"
   ]
  },
  {
   "cell_type": "code",
   "execution_count": null,
   "metadata": {
    "colab": {
     "base_uri": "https://localhost:8080/"
    },
    "id": "zO2iysd2rSbP",
    "outputId": "06578400-72f8-4691-bab4-539da2fd167f"
   },
   "outputs": [],
   "source": [
    "sparse_matrix_dataframe.head()\n",
    "print(sparse_matrix_dataframe.shape)"
   ]
  },
  {
   "cell_type": "markdown",
   "metadata": {
    "id": "dCnUluQ63yA0"
   },
   "source": [
    "### Test Dataset\n",
    "The feature engineering we did for the file - 'sparse_matrix_train.csv' which was mentioned earlier, we did the same steps for the test file which was saved as **'sparse_matrix_test.csv'**.\n",
    "Some feature engineering we did included -\n",
    "\n",
    "1) Class distribution balanced was balanced.\n",
    "\n",
    "2) Features scaled.\n",
    "\n",
    "3) Missing values - none.\n",
    "\n",
    "4) Features with Correlation > 0.8 discarded.\n",
    "\n",
    "5) Total records - 124, 103 belonging to class '0' and 21 to class '1'"
   ]
  },
  {
   "cell_type": "code",
   "execution_count": null,
   "metadata": {
    "colab": {
     "base_uri": "https://localhost:8080/"
    },
    "id": "W3qvd_vq3xQS",
    "outputId": "ba78c4f5-2015-451b-9675-13e4ba6f33f0"
   },
   "outputs": [],
   "source": [
    "test_sparse_matrix_dataframe = pd.read_csv('sparse_matrix_test.csv')\n",
    "\n",
    "# Removing this column as it is just the number of rows.\n",
    "test_sparse_matrix_dataframe.drop('Unnamed: 0', axis=1, inplace=True)\n",
    "\n",
    "print(test_sparse_matrix_dataframe.shape)"
   ]
  },
  {
   "cell_type": "markdown",
   "metadata": {
    "id": "cO_CDd_NEKTM"
   },
   "source": [
    "### Choosing Model"
   ]
  },
  {
   "cell_type": "markdown",
   "metadata": {
    "id": "o6S1hJwrvco3"
   },
   "source": [
    "We have been evaluating our datasets on the Gradient Boosting Classifier. Here, we will try and see if any other classifiers work better than the GBT on this specific dataset. We will compare the performances between the top performing classifier from Lazy Classifier against the GBT and see which works better."
   ]
  },
  {
   "cell_type": "code",
   "execution_count": null,
   "metadata": {
    "colab": {
     "base_uri": "https://localhost:8080/"
    },
    "id": "M-t-JDm-r1Wq",
    "outputId": "1a399d17-622a-4fda-b308-67fd012ed7a4"
   },
   "outputs": [],
   "source": [
    "!pip install lazypredict"
   ]
  },
  {
   "cell_type": "code",
   "execution_count": null,
   "metadata": {
    "colab": {
     "base_uri": "https://localhost:8080/"
    },
    "id": "ttPQMwXarcZl",
    "outputId": "433db332-deab-4e92-d416-690f12d7218d"
   },
   "outputs": [],
   "source": [
    "from lazypredict.Supervised import LazyClassifier\n",
    "\n",
    "# Extract the target variable\n",
    "y = sparse_matrix_dataframe['Class']\n",
    "\n",
    "# Drop the target variable from the sparse matrix dataframe\n",
    "sparse_matrix_dataframe.drop('Class', axis=1, inplace=True)\n",
    "\n",
    "# Split the data into training and test sets\n",
    "X_train, X_test, y_train, y_test = train_test_split(sparse_matrix_dataframe, y, test_size=0.2, random_state=42)\n",
    "\n",
    "# Create the LazyClassifier model\n",
    "clf = LazyClassifier(verbose=0, ignore_warnings=True, custom_metric=None)\n",
    "\n",
    "# Fit the LazyClassifier model on the training data\n",
    "models, predictions = clf.fit(X_train, X_test, y_train, y_test)\n",
    "\n",
    "# Print the model performance\n",
    "print(models)"
   ]
  },
  {
   "cell_type": "markdown",
   "metadata": {
    "id": "VIrsQbsTtni_"
   },
   "source": [
    "## Cross Validation\n",
    "Performing cross validation on GBT and ExtraTreesClassifier (chosen from Lazy classifier)."
   ]
  },
  {
   "cell_type": "markdown",
   "metadata": {
    "id": "rwFPcmt6xy7Z"
   },
   "source": [
    "#### GBT Classifier"
   ]
  },
  {
   "cell_type": "code",
   "execution_count": null,
   "metadata": {
    "colab": {
     "base_uri": "https://localhost:8080/"
    },
    "id": "TEbPlVmuuDZA",
    "outputId": "f857c34d-a422-4ea1-cd94-c18bac90adc8"
   },
   "outputs": [],
   "source": [
    "from sklearn.model_selection import cross_validate\n",
    "from sklearn.ensemble import GradientBoostingClassifier\n",
    "\n",
    "X_train, X_test, y_train, y_test = train_test_split(sparse_matrix_dataframe, y, test_size=0.2, random_state=42)\n",
    "\n",
    "# Create the Gradient Boosting Classifier\n",
    "gbt_clf = GradientBoostingClassifier(n_estimators=1000, learning_rate=0.01, max_depth=2, random_state=40, loss='log_loss')\n",
    "\n",
    "# Fit the GBT model on the training data\n",
    "gbt_clf.fit(X_train, y_train)\n",
    "\n",
    "# Perform cross-validation\n",
    "cv_results = cross_validate(gbt_clf, X_train, y_train, cv=5, scoring=['accuracy', 'precision', 'recall', 'f1'])\n",
    "\n",
    "# Print the average scores for GBT Classifier\n",
    "print(\"Average Scores for Gradient Boosting Classifier:\")\n",
    "print(\"Accuracy:\", cv_results['test_accuracy'].mean())\n",
    "print(\"Precision:\", cv_results['test_precision'].mean())\n",
    "print(\"Recall:\", cv_results['test_recall'].mean())\n",
    "print(\"F1-Score:\", cv_results['test_f1'].mean())"
   ]
  },
  {
   "cell_type": "code",
   "execution_count": null,
   "metadata": {
    "colab": {
     "base_uri": "https://localhost:8080/",
     "height": 467
    },
    "id": "vrE-1Kv7zgBx",
    "outputId": "1dc0d31d-fb1d-4566-cfa1-7a7448274aa6"
   },
   "outputs": [],
   "source": [
    "# Make predictions on the test data\n",
    "y_pred_gb = gbt_clf.predict(X_test)\n",
    "\n",
    "# Calculate the balanced accuracy score\n",
    "balanced_accuracy = balanced_accuracy_score(y_test, y_pred_gb)\n",
    "\n",
    "# Print the balanced accuracy score\n",
    "print(\"Balanced Accuracy Score:\", balanced_accuracy)\n",
    "\n",
    "# Display the confusion matrix for GBT Classifier on the test data\n",
    "cm = confusion_matrix(y_test, y_pred_gb, labels=gbt_clf.classes_)\n",
    "disp = ConfusionMatrixDisplay(confusion_matrix=cm, display_labels=gbt_clf.classes_)\n",
    "disp.plot()\n",
    "plt.show()"
   ]
  },
  {
   "cell_type": "markdown",
   "metadata": {
    "id": "2hC-jGFE8YPm"
   },
   "source": [
    "### GBT Model - Performance on Test file"
   ]
  },
  {
   "cell_type": "code",
   "execution_count": null,
   "metadata": {
    "colab": {
     "base_uri": "https://localhost:8080/",
     "height": 467
    },
    "id": "TAHc0JYA7uoJ",
    "outputId": "21a6a8aa-7bc3-47f1-fc79-540533b85065"
   },
   "outputs": [],
   "source": [
    "# Extract the target variable from the test data\n",
    "y_test = test_sparse_matrix_dataframe['Class']\n",
    "\n",
    "# Drop the target variable from the test dataframe\n",
    "test_sparse_matrix_dataframe.drop('Class', axis=1, inplace=True)\n",
    "\n",
    "# Make predictions on the test data using the trained GBT model\n",
    "y_pred_gb = gbt_clf.predict(test_sparse_matrix_dataframe)\n",
    "\n",
    "# Calculate the balanced accuracy score on the test data\n",
    "balanced_accuracy = balanced_accuracy_score(y_test, y_pred_gb)\n",
    "\n",
    "# Print the balanced accuracy score on the test data\n",
    "print(\"Balanced Accuracy Score on Test Data:\", balanced_accuracy)\n",
    "\n",
    "# Display the confusion matrix for the GBT Classifier on the test data\n",
    "cm = confusion_matrix(y_test, y_pred_gb, labels=gbt_clf.classes_)\n",
    "disp = ConfusionMatrixDisplay(confusion_matrix=cm, display_labels=gbt_clf.classes_)\n",
    "disp.plot()\n",
    "plt.show()"
   ]
  },
  {
   "cell_type": "markdown",
   "metadata": {
    "id": "sxWpyrx6xtso"
   },
   "source": [
    "### Extra Trees Classifier"
   ]
  },
  {
   "cell_type": "code",
   "execution_count": null,
   "metadata": {
    "id": "VMgk52KiNo_v"
   },
   "outputs": [],
   "source": [
    "# Edited these dataframes above, so reading again.\n",
    "sparse_matrix_dataframe = pd.read_csv('sparse_matrix_train.csv')\n",
    "\n",
    "# Removing this column, as this is just the number of rows.\n",
    "sparse_matrix_dataframe.drop('Unnamed: 0', axis=1, inplace=True)\n",
    "\n",
    "test_sparse_matrix_dataframe = pd.read_csv('sparse_matrix_test.csv')\n",
    "\n",
    "# Removing this column as it is just the number of rows.\n",
    "test_sparse_matrix_dataframe.drop('Unnamed: 0', axis=1, inplace=True)\n",
    "\n",
    "# Extract the target variable\n",
    "y = sparse_matrix_dataframe['Class']\n",
    "\n",
    "# Drop the target variable from the sparse matrix dataframe\n",
    "sparse_matrix_dataframe.drop('Class', axis=1, inplace=True)"
   ]
  },
  {
   "cell_type": "code",
   "execution_count": null,
   "metadata": {
    "colab": {
     "base_uri": "https://localhost:8080/"
    },
    "id": "eVw_M82vwVe8",
    "outputId": "ebe35d00-350e-4d66-b50b-0c68a53e889b"
   },
   "outputs": [],
   "source": [
    "from sklearn.ensemble import ExtraTreesClassifier\n",
    "\n",
    "X_train, X_test, y_train, y_test = train_test_split(sparse_matrix_dataframe, y, test_size=0.2, random_state=42)\n",
    "\n",
    "# Create the Extra Tree Classifier\n",
    "et_clf = ExtraTreesClassifier()\n",
    "\n",
    "# Fit the Extra Trees model on the training data\n",
    "et_clf.fit(X_train, y_train)\n",
    "\n",
    "# Perform cross-validation for Decision Tree Classifier\n",
    "et_cv_results = cross_validate(et_clf, X_train, y_train, cv=5, scoring=['accuracy', 'precision', 'recall', 'f1'])\n",
    "\n",
    "# Print the average scores for Decision Tree Classifier\n",
    "print(\"Average Scores for Extra Trees Classifier:\")\n",
    "print(\"Accuracy:\", et_cv_results['test_accuracy'].mean())\n",
    "print(\"Precision:\", et_cv_results['test_precision'].mean())\n",
    "print(\"Recall:\", et_cv_results['test_recall'].mean())\n",
    "print(\"F1-Score:\", et_cv_results['test_f1'].mean())"
   ]
  },
  {
   "cell_type": "code",
   "execution_count": null,
   "metadata": {
    "colab": {
     "base_uri": "https://localhost:8080/",
     "height": 491
    },
    "id": "EORFWUhJyPjc",
    "outputId": "7af19944-cd34-45e5-ffed-00a448caa45e"
   },
   "outputs": [],
   "source": [
    "# Make predictions on the test data\n",
    "y_pred_et = et_clf.predict(X_test)\n",
    "\n",
    "# Calculate the balanced accuracy score\n",
    "balanced_accuracy = balanced_accuracy_score(y_test, y_pred_et)\n",
    "\n",
    "# Print the balanced accuracy score\n",
    "print(\"Balanced Accuracy Score:\", balanced_accuracy)\n",
    "\n",
    "print()\n",
    "cm = confusion_matrix(y_test, y_pred_et, labels=et_clf.classes_)\n",
    "disp = ConfusionMatrixDisplay(confusion_matrix=cm,display_labels=et_clf.classes_)\n",
    "disp.plot()\n",
    "plt.show()"
   ]
  },
  {
   "cell_type": "markdown",
   "metadata": {
    "id": "9gGkpyyuOy_S"
   },
   "source": [
    "### Extra Trees Model - Performance on Test file"
   ]
  },
  {
   "cell_type": "code",
   "execution_count": null,
   "metadata": {
    "colab": {
     "base_uri": "https://localhost:8080/",
     "height": 467
    },
    "id": "miVh7oIdBbIK",
    "outputId": "c2af0f8a-a0a7-405d-956c-0900b4c3c3b1"
   },
   "outputs": [],
   "source": [
    "# Extract the target variable from the test data\n",
    "y_test = test_sparse_matrix_dataframe['Class']\n",
    "\n",
    "# Drop the target variable from the test dataframe\n",
    "test_sparse_matrix_dataframe.drop('Class', axis=1, inplace=True)\n",
    "\n",
    "# Make predictions on the test data using the trained Extra Trees model\n",
    "y_pred_et = et_clf.predict(test_sparse_matrix_dataframe)\n",
    "\n",
    "# Calculate the balanced accuracy score on the test data\n",
    "balanced_accuracy = balanced_accuracy_score(y_test, y_pred_et)\n",
    "\n",
    "# Print the balanced accuracy score on the test data\n",
    "print(\"Balanced Accuracy Score on Test Data:\", balanced_accuracy)\n",
    "\n",
    "# Display the confusion matrix for the Extra Trees Classifier on the test data\n",
    "cm = confusion_matrix(y_test, y_pred_et, labels=et_clf.classes_)\n",
    "disp = ConfusionMatrixDisplay(confusion_matrix=cm, display_labels=et_clf.classes_)\n",
    "disp.plot()\n",
    "plt.show()"
   ]
  },
  {
   "cell_type": "markdown",
   "metadata": {
    "id": "4i4OyxCyQEND"
   },
   "source": [
    "As we can see that the Extra Trees Model had lesser Type 2 errors and almost similar Type 1 errors as the GBT Model, we will tune the Extra Trees Model to check if we can them to be more accurate.\n",
    "\n",
    "### Hyper Parameter Tuning\n",
    "\n"
   ]
  },
  {
   "cell_type": "code",
   "execution_count": null,
   "metadata": {
    "id": "QiZYW4W1VDBw"
   },
   "outputs": [],
   "source": [
    "# Edited these dataframes above, so reading again.\n",
    "sparse_matrix_dataframe = pd.read_csv('sparse_matrix_train.csv')\n",
    "\n",
    "# Removing this column, as this is just the number of rows.\n",
    "sparse_matrix_dataframe.drop('Unnamed: 0', axis=1, inplace=True)\n",
    "\n",
    "test_sparse_matrix_dataframe = pd.read_csv('sparse_matrix_test.csv')\n",
    "\n",
    "# Removing this column as it is just the number of rows.\n",
    "test_sparse_matrix_dataframe.drop('Unnamed: 0', axis=1, inplace=True)\n",
    "\n",
    "# Extract the target variable\n",
    "y = sparse_matrix_dataframe['Class']\n",
    "\n",
    "# Drop the target variable from the sparse matrix dataframe\n",
    "sparse_matrix_dataframe.drop('Class', axis=1, inplace=True)"
   ]
  },
  {
   "cell_type": "markdown",
   "metadata": {
    "id": "qYDhg0lgXj0I"
   },
   "source": [
    "#### Grid Search CV"
   ]
  },
  {
   "cell_type": "code",
   "execution_count": null,
   "metadata": {
    "colab": {
     "base_uri": "https://localhost:8080/",
     "height": 485
    },
    "id": "kRcti5c4SWiN",
    "outputId": "a1193235-fcb2-4a21-a041-5013c5123abf"
   },
   "outputs": [],
   "source": [
    "from sklearn.model_selection import GridSearchCV\n",
    "from sklearn.ensemble import ExtraTreesClassifier\n",
    "\n",
    "X_train, X_test, y_train, y_test = train_test_split(sparse_matrix_dataframe, y, test_size=0.2, random_state=42)\n",
    "\n",
    "# Define the parameter grid\n",
    "param_grid = {\n",
    "    'n_estimators': [100, 500, 1000],\n",
    "    'max_features': [0.5, 'sqrt'],\n",
    "    'min_samples_split': [2, 5],\n",
    "    'min_samples_leaf': [1, 2]\n",
    "}\n",
    "\n",
    "# Create the Extra Trees Classifier\n",
    "et_clf = ExtraTreesClassifier()\n",
    "\n",
    "# Create the GridSearchCV object\n",
    "grid_search = GridSearchCV(et_clf, param_grid, cv=5, scoring='recall')\n",
    "\n",
    "# Fit the GridSearchCV object on the training data\n",
    "grid_search.fit(X_train, y_train)\n",
    "\n",
    "# Get the best performing hyperparameters\n",
    "best_params = grid_search.best_params_\n",
    "print(\"Best Hyperparameters:\", best_params)\n",
    "\n",
    "# Get the best performing model\n",
    "best_model = grid_search.best_estimator_\n",
    "\n",
    "# Make predictions on the test data using the best model\n",
    "y_pred_best = best_model.predict(X_test)\n",
    "\n",
    "# Calculate the balanced accuracy score\n",
    "balanced_accuracy = balanced_accuracy_score(y_test, y_pred_best)\n",
    "\n",
    "# Print the balanced accuracy score\n",
    "print(\"Balanced Accuracy Score on Test Data:\", balanced_accuracy)\n",
    "\n",
    "# Display the confusion matrix for the best model on the test data\n",
    "cm = confusion_matrix(y_test, y_pred_best, labels=best_model.classes_)\n",
    "disp = ConfusionMatrixDisplay(confusion_matrix=cm, display_labels=best_model.classes_)\n",
    "disp.plot()\n",
    "plt.show()"
   ]
  },
  {
   "cell_type": "markdown",
   "metadata": {
    "id": "IRIEVaibeCJN"
   },
   "source": [
    "### Extra Trees Classifier (Hyper parameters tuned) - Performance on Test File\n",
    "\n",
    "#### Model Evaluation"
   ]
  },
  {
   "cell_type": "code",
   "execution_count": null,
   "metadata": {
    "colab": {
     "base_uri": "https://localhost:8080/",
     "height": 467
    },
    "id": "09zCufu1U3qJ",
    "outputId": "9e017b86-5aa7-46a0-eeb2-65964d57ae1a"
   },
   "outputs": [],
   "source": [
    "# Extract the target variable from the test data\n",
    "y_test_file = test_sparse_matrix_dataframe['Class']\n",
    "\n",
    "# Drop the target variable from the test dataframe\n",
    "test_sparse_matrix_dataframe.drop('Class', axis=1, inplace=True)\n",
    "\n",
    "# Make predictions on the test data using the best model\n",
    "y_pred_test_file = best_model.predict(test_sparse_matrix_dataframe)\n",
    "\n",
    "# Calculate the balanced accuracy score on the test data\n",
    "balanced_accuracy_test_file = balanced_accuracy_score(y_test_file, y_pred_test_file)\n",
    "\n",
    "# Print the balanced accuracy score on the test data\n",
    "print(\"Balanced Accuracy Score on Test File:\", balanced_accuracy_test_file)\n",
    "\n",
    "# Display the confusion matrix for the best model on the test data file\n",
    "cm_test_file = confusion_matrix(y_test_file, y_pred_test_file, labels=best_model.classes_)\n",
    "disp_test_file = ConfusionMatrixDisplay(confusion_matrix=cm_test_file, display_labels=best_model.classes_)\n",
    "disp_test_file.plot()\n",
    "plt.show()"
   ]
  },
  {
   "cell_type": "markdown",
   "metadata": {
    "id": "eglTf96PfRFy"
   },
   "source": [
    "\n",
    "\n",
    "---\n",
    "\n",
    "\n",
    "Initially with GBT we had -\n",
    "\n",
    "1) Balanced Accuracy Score = 76.5%\n",
    "\n",
    "2) Type 1 Errors - 14\n",
    "\n",
    "3) Type 2 Errors - 7\n",
    "\n",
    "4) True Positives - 14\n",
    "\n",
    "5) True Negatives - 89\n",
    "\n",
    "\n",
    "\n",
    "---\n",
    "\n",
    "\n",
    "\n",
    "With Extra trees Classifier (Hyperparameter Tuned) we had -\n",
    "\n",
    "1) Balanced Accuracy Score = 86%\n",
    "\n",
    "2) Type 1 Errors - 14\n",
    "\n",
    "3) Type 2 Errors - 3\n",
    "\n",
    "4) True Positives - 18\n",
    "\n",
    "5) True Negatives - 89\n",
    "\n",
    "\n",
    "---\n",
    "\n"
   ]
  },
  {
   "cell_type": "markdown",
   "metadata": {
    "id": "HSanKALgfnan"
   },
   "source": [
    "We were able to achieve 86% balanced accuracy on the additional test file provided, as well as we wanted to min imize our recall, which in this case shows that Type 2 errors are less than 50% for Extra Trees as compared to GBT. Therefore, according to us, this is the best performance we can get on this dataset."
   ]
  }
 ],
 "metadata": {
  "colab": {
   "provenance": []
  },
  "kernelspec": {
   "display_name": "Python 3 (ipykernel)",
   "language": "python",
   "name": "python3"
  },
  "language_info": {
   "codemirror_mode": {
    "name": "ipython",
    "version": 3
   },
   "file_extension": ".py",
   "mimetype": "text/x-python",
   "name": "python",
   "nbconvert_exporter": "python",
   "pygments_lexer": "ipython3",
   "version": "3.9.15"
  }
 },
 "nbformat": 4,
 "nbformat_minor": 1
}
